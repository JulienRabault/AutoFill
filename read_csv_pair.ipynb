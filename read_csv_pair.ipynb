{
 "cells": [
  {
   "cell_type": "code",
   "execution_count": 1,
   "metadata": {},
   "outputs": [
    {
     "data": {
      "text/html": [
       "<div>\n",
       "<style scoped>\n",
       "    .dataframe tbody tr th:only-of-type {\n",
       "        vertical-align: middle;\n",
       "    }\n",
       "\n",
       "    .dataframe tbody tr th {\n",
       "        vertical-align: top;\n",
       "    }\n",
       "\n",
       "    .dataframe thead th {\n",
       "        text-align: right;\n",
       "    }\n",
       "</style>\n",
       "<table border=\"1\" class=\"dataframe\">\n",
       "  <thead>\n",
       "    <tr style=\"text-align: right;\">\n",
       "      <th></th>\n",
       "      <th>Unnamed: 0</th>\n",
       "      <th>saxs_path</th>\n",
       "      <th>les_path</th>\n",
       "      <th>material</th>\n",
       "      <th>shape</th>\n",
       "      <th>dimension1</th>\n",
       "      <th>dimension2</th>\n",
       "    </tr>\n",
       "  </thead>\n",
       "  <tbody>\n",
       "    <tr>\n",
       "      <th>0</th>\n",
       "      <td>0</td>\n",
       "      <td>Base de donnée\\Au\\Cylindre\\Simulation\\SAXS\\Au_...</td>\n",
       "      <td>Base de donnée\\Au\\Cylindre\\Simulation\\LES\\Au_D...</td>\n",
       "      <td>au</td>\n",
       "      <td>cylinder</td>\n",
       "      <td>10.0</td>\n",
       "      <td>19.0</td>\n",
       "    </tr>\n",
       "    <tr>\n",
       "      <th>1</th>\n",
       "      <td>1</td>\n",
       "      <td>Base de donnée\\Au\\Cylindre\\Simulation\\SAXS\\Au_...</td>\n",
       "      <td>Base de donnée\\Au\\Cylindre\\Simulation\\LES\\Au_D...</td>\n",
       "      <td>au</td>\n",
       "      <td>cylinder</td>\n",
       "      <td>10.0</td>\n",
       "      <td>29.0</td>\n",
       "    </tr>\n",
       "    <tr>\n",
       "      <th>2</th>\n",
       "      <td>2</td>\n",
       "      <td>Base de donnée\\Au\\Cylindre\\Simulation\\SAXS\\Au_...</td>\n",
       "      <td>Base de donnée\\Au\\Cylindre\\Simulation\\LES\\Au_D...</td>\n",
       "      <td>au</td>\n",
       "      <td>cylinder</td>\n",
       "      <td>10.0</td>\n",
       "      <td>50.0</td>\n",
       "    </tr>\n",
       "    <tr>\n",
       "      <th>3</th>\n",
       "      <td>3</td>\n",
       "      <td>Base de donnée\\Au\\Prisme rectangulaire\\Simulat...</td>\n",
       "      <td>Base de donnée\\Au\\Prisme rectangulaire\\Simulat...</td>\n",
       "      <td>au</td>\n",
       "      <td>cube</td>\n",
       "      <td>70.0</td>\n",
       "      <td>NaN</td>\n",
       "    </tr>\n",
       "    <tr>\n",
       "      <th>4</th>\n",
       "      <td>4</td>\n",
       "      <td>Base de donnée\\Latex\\Sphère\\simulation\\SAXS\\La...</td>\n",
       "      <td>Base de donnée\\Latex\\Sphère\\simulation\\LES\\Lat...</td>\n",
       "      <td>latex</td>\n",
       "      <td>sphere</td>\n",
       "      <td>152.0</td>\n",
       "      <td>NaN</td>\n",
       "    </tr>\n",
       "  </tbody>\n",
       "</table>\n",
       "</div>"
      ],
      "text/plain": [
       "   Unnamed: 0                                          saxs_path  \\\n",
       "0           0  Base de donnée\\Au\\Cylindre\\Simulation\\SAXS\\Au_...   \n",
       "1           1  Base de donnée\\Au\\Cylindre\\Simulation\\SAXS\\Au_...   \n",
       "2           2  Base de donnée\\Au\\Cylindre\\Simulation\\SAXS\\Au_...   \n",
       "3           3  Base de donnée\\Au\\Prisme rectangulaire\\Simulat...   \n",
       "4           4  Base de donnée\\Latex\\Sphère\\simulation\\SAXS\\La...   \n",
       "\n",
       "                                            les_path material     shape  \\\n",
       "0  Base de donnée\\Au\\Cylindre\\Simulation\\LES\\Au_D...       au  cylinder   \n",
       "1  Base de donnée\\Au\\Cylindre\\Simulation\\LES\\Au_D...       au  cylinder   \n",
       "2  Base de donnée\\Au\\Cylindre\\Simulation\\LES\\Au_D...       au  cylinder   \n",
       "3  Base de donnée\\Au\\Prisme rectangulaire\\Simulat...       au      cube   \n",
       "4  Base de donnée\\Latex\\Sphère\\simulation\\LES\\Lat...    latex    sphere   \n",
       "\n",
       "   dimension1  dimension2  \n",
       "0        10.0        19.0  \n",
       "1        10.0        29.0  \n",
       "2        10.0        50.0  \n",
       "3        70.0         NaN  \n",
       "4       152.0         NaN  "
      ]
     },
     "execution_count": 1,
     "metadata": {},
     "output_type": "execute_result"
    }
   ],
   "source": [
    "import pandas as pd\n",
    "\n",
    "df1 = pd.read_csv(\"technique_pair_of_material_shape_dimension1_dimension2_closest_of_concentration.csv\",sep=\";\")\n",
    "df1.head()"
   ]
  },
  {
   "cell_type": "code",
   "execution_count": 2,
   "metadata": {},
   "outputs": [
    {
     "data": {
      "text/html": [
       "<div>\n",
       "<style scoped>\n",
       "    .dataframe tbody tr th:only-of-type {\n",
       "        vertical-align: middle;\n",
       "    }\n",
       "\n",
       "    .dataframe tbody tr th {\n",
       "        vertical-align: top;\n",
       "    }\n",
       "\n",
       "    .dataframe thead th {\n",
       "        text-align: right;\n",
       "    }\n",
       "</style>\n",
       "<table border=\"1\" class=\"dataframe\">\n",
       "  <thead>\n",
       "    <tr style=\"text-align: right;\">\n",
       "      <th></th>\n",
       "      <th>Unnamed: 0</th>\n",
       "      <th>saxs_path</th>\n",
       "      <th>les_path</th>\n",
       "      <th>material</th>\n",
       "      <th>shape</th>\n",
       "      <th>dimension1</th>\n",
       "      <th>dimension2</th>\n",
       "      <th>concentration</th>\n",
       "    </tr>\n",
       "  </thead>\n",
       "  <tbody>\n",
       "    <tr>\n",
       "      <th>0</th>\n",
       "      <td>0</td>\n",
       "      <td>Base de donnée\\SiO2\\Sphère\\Simulation\\D=20-500...</td>\n",
       "      <td>Base de donnée\\SiO2\\Sphère\\Simulation\\D=20-500...</td>\n",
       "      <td>sio2</td>\n",
       "      <td>sphere</td>\n",
       "      <td>295.0</td>\n",
       "      <td>NaN</td>\n",
       "      <td>1.000000e+12</td>\n",
       "    </tr>\n",
       "    <tr>\n",
       "      <th>1</th>\n",
       "      <td>1</td>\n",
       "      <td>SAXS_100k_Curve_Au_Ag\\Ag\\Cylindre\\Ag_Cylinder_...</td>\n",
       "      <td>Base de donnée\\Ag\\Cylindre\\Simulation\\LES\\Ag_D...</td>\n",
       "      <td>ag</td>\n",
       "      <td>cylinder</td>\n",
       "      <td>10.0</td>\n",
       "      <td>10.0</td>\n",
       "      <td>1.240000e+12</td>\n",
       "    </tr>\n",
       "    <tr>\n",
       "      <th>2</th>\n",
       "      <td>2</td>\n",
       "      <td>SAXS_100k_Curve_Au_Ag\\Ag\\Cylindre\\Ag_Cylinder_...</td>\n",
       "      <td>Base de donnée\\Ag\\Cylindre\\Simulation\\LES\\Ag_D...</td>\n",
       "      <td>ag</td>\n",
       "      <td>cylinder</td>\n",
       "      <td>10.0</td>\n",
       "      <td>13.0</td>\n",
       "      <td>1.230000e+12</td>\n",
       "    </tr>\n",
       "    <tr>\n",
       "      <th>3</th>\n",
       "      <td>3</td>\n",
       "      <td>SAXS_100k_Curve_Au_Ag\\Ag\\Cylindre\\Ag_Cylinder_...</td>\n",
       "      <td>Base de donnée\\Ag\\Cylindre\\Simulation\\LES\\Ag_D...</td>\n",
       "      <td>ag</td>\n",
       "      <td>cylinder</td>\n",
       "      <td>10.0</td>\n",
       "      <td>15.0</td>\n",
       "      <td>2.520000e+12</td>\n",
       "    </tr>\n",
       "    <tr>\n",
       "      <th>4</th>\n",
       "      <td>4</td>\n",
       "      <td>SAXS_100k_Curve_Au_Ag\\Ag\\Cylindre\\Ag_Cylinder_...</td>\n",
       "      <td>Base de donnée\\Ag\\Cylindre\\Simulation\\LES\\Ag_D...</td>\n",
       "      <td>ag</td>\n",
       "      <td>cylinder</td>\n",
       "      <td>10.0</td>\n",
       "      <td>17.0</td>\n",
       "      <td>3.190000e+12</td>\n",
       "    </tr>\n",
       "  </tbody>\n",
       "</table>\n",
       "</div>"
      ],
      "text/plain": [
       "   Unnamed: 0                                          saxs_path  \\\n",
       "0           0  Base de donnée\\SiO2\\Sphère\\Simulation\\D=20-500...   \n",
       "1           1  SAXS_100k_Curve_Au_Ag\\Ag\\Cylindre\\Ag_Cylinder_...   \n",
       "2           2  SAXS_100k_Curve_Au_Ag\\Ag\\Cylindre\\Ag_Cylinder_...   \n",
       "3           3  SAXS_100k_Curve_Au_Ag\\Ag\\Cylindre\\Ag_Cylinder_...   \n",
       "4           4  SAXS_100k_Curve_Au_Ag\\Ag\\Cylindre\\Ag_Cylinder_...   \n",
       "\n",
       "                                            les_path material     shape  \\\n",
       "0  Base de donnée\\SiO2\\Sphère\\Simulation\\D=20-500...     sio2    sphere   \n",
       "1  Base de donnée\\Ag\\Cylindre\\Simulation\\LES\\Ag_D...       ag  cylinder   \n",
       "2  Base de donnée\\Ag\\Cylindre\\Simulation\\LES\\Ag_D...       ag  cylinder   \n",
       "3  Base de donnée\\Ag\\Cylindre\\Simulation\\LES\\Ag_D...       ag  cylinder   \n",
       "4  Base de donnée\\Ag\\Cylindre\\Simulation\\LES\\Ag_D...       ag  cylinder   \n",
       "\n",
       "   dimension1  dimension2  concentration  \n",
       "0       295.0         NaN   1.000000e+12  \n",
       "1        10.0        10.0   1.240000e+12  \n",
       "2        10.0        13.0   1.230000e+12  \n",
       "3        10.0        15.0   2.520000e+12  \n",
       "4        10.0        17.0   3.190000e+12  "
      ]
     },
     "execution_count": 2,
     "metadata": {},
     "output_type": "execute_result"
    }
   ],
   "source": [
    "\n",
    "df2 = pd.read_csv(\"technique_pair_of_material_shape_dimension1_dimension2_concentration.csv\",sep=\";\")\n",
    "df2.head()"
   ]
  },
  {
   "cell_type": "code",
   "execution_count": 3,
   "metadata": {},
   "outputs": [
    {
     "data": {
      "text/plain": [
       "4792"
      ]
     },
     "execution_count": 3,
     "metadata": {},
     "output_type": "execute_result"
    }
   ],
   "source": [
    "len(df2)"
   ]
  },
  {
   "cell_type": "code",
   "execution_count": 4,
   "metadata": {},
   "outputs": [
    {
     "data": {
      "text/plain": [
       "97841"
      ]
     },
     "execution_count": 4,
     "metadata": {},
     "output_type": "execute_result"
    }
   ],
   "source": [
    "len(df1)"
   ]
  },
  {
   "cell_type": "code",
   "execution_count": null,
   "metadata": {},
   "outputs": [],
   "source": []
  }
 ],
 "metadata": {
  "kernelspec": {
   "display_name": "venv",
   "language": "python",
   "name": "python3"
  },
  "language_info": {
   "codemirror_mode": {
    "name": "ipython",
    "version": 3
   },
   "file_extension": ".py",
   "mimetype": "text/x-python",
   "name": "python",
   "nbconvert_exporter": "python",
   "pygments_lexer": "ipython3",
   "version": "3.10.12"
  }
 },
 "nbformat": 4,
 "nbformat_minor": 2
}
