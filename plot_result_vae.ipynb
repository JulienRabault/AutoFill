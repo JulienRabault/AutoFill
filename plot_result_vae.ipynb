{
 "cells": [
  {
   "cell_type": "code",
   "execution_count": 1,
   "metadata": {
    "vscode": {
     "languageId": "plaintext"
    }
   },
   "outputs": [
    {
     "name": "stderr",
     "output_type": "stream",
     "text": [
      "/home/cdepourt/.local/lib/python3.10/site-packages/tqdm/auto.py:21: TqdmWarning: IProgress not found. Please update jupyter and ipywidgets. See https://ipywidgets.readthedocs.io/en/stable/user_install.html\n",
      "  from .autonotebook import tqdm as notebook_tqdm\n"
     ]
    }
   ],
   "source": [
    "import torch\n",
    "import yaml \n",
    "import matplotlib.pyplot as plt\n",
    "import torch.nn.functional as F\n",
    "import os\n",
    "import numpy as np\n",
    "\n",
    "import mlflow\n",
    "\n",
    "from model.VAE.pl_VAE import PlVAE\n",
    "from dataset.datasetH5 import HDF5Dataset\n"
   ]
  },
  {
   "cell_type": "markdown",
   "metadata": {},
   "source": [
    "# Params"
   ]
  },
  {
   "cell_type": "code",
   "execution_count": 2,
   "metadata": {},
   "outputs": [
    {
     "name": "stdout",
     "output_type": "stream",
     "text": [
      "['config_model.yaml', 'epoch=73-step=1593590.ckpt']\n"
     ]
    }
   ],
   "source": [
    "dossier = \"/projects/pnria/julien/autofill/runs/grid_ag_les_beta0.0001_etamin1e-07_ld64_bs64\"\n",
    "fichiers = [f for f in os.listdir(dossier) if os.path.isfile(os.path.join(dossier, f))]\n",
    "\n",
    "print(fichiers)"
   ]
  },
  {
   "cell_type": "code",
   "execution_count": 3,
   "metadata": {
    "vscode": {
     "languageId": "plaintext"
    }
   },
   "outputs": [],
   "source": [
    "path_checkpoint = \"/projects/pnria/julien/autofill/runs/grid_ag_saxs_beta0.0001_ld64_bs16/epoch=197-step=517968.ckpt\"\n",
    "path_config = \"/projects/pnria/julien/autofill/runs/grid_ag_saxs_beta0.0001_ld64_bs16/config_model.yaml\""
   ]
  },
  {
   "cell_type": "markdown",
   "metadata": {},
   "source": [
    "# Loading"
   ]
  },
  {
   "cell_type": "code",
   "execution_count": 4,
   "metadata": {},
   "outputs": [],
   "source": [
    "\n",
    "\n",
    "with open(path_config, 'r') as file:\n",
    "    config = yaml.safe_load(file)\n",
    "\n"
   ]
  },
  {
   "cell_type": "code",
   "execution_count": 5,
   "metadata": {},
   "outputs": [
    {
     "data": {
      "text/plain": [
       "{'dataset': {'conversion_dict_path': '/projects/pnria/DATA/AUTOFILL/v2/all_data_saxs_v2.json',\n",
       "  'hdf5_file': '/projects/pnria/DATA/AUTOFILL/v2/all_data_saxs_v2.h5',\n",
       "  'metadata_filters': {'material': ['ag'],\n",
       "   'technique': ['saxs'],\n",
       "   'type': ['simulation']},\n",
       "  'requested_metadata': ['shape', 'material'],\n",
       "  'sample_frac': 1.0,\n",
       "  'transform': {'q': {'PaddingTransformer': {'pad_size': 500, 'value': 0}},\n",
       "   'y': {'MinMaxNormalizer': {},\n",
       "    'PaddingTransformer': {'pad_size': 500, 'value': 0}}}},\n",
       " 'devices': '1',\n",
       " 'experiment_name': 'grid_ag_saxs_beta0.0001_ld64_bs16',\n",
       " 'model': {'args': {'dilation': 1,\n",
       "   'down_channels': [16, 32, 64, 128, 256, 512],\n",
       "   'in_channels': 1,\n",
       "   'input_dim': 500,\n",
       "   'latent_dim': 64,\n",
       "   'output_channels': 1,\n",
       "   'strat': 'y',\n",
       "   'up_channels': [512, 256, 128, 64, 32, 16]},\n",
       "  'output_transform_log': True,\n",
       "  'vae_class': 'ResVAE'},\n",
       " 'name': 'saxs_ag_gpu1',\n",
       " 'training': {'T_max': 200,\n",
       "  'batch_size': 16,\n",
       "  'beta': 0.0001,\n",
       "  'eta_min': 1e-08,\n",
       "  'max_lr': 0.0001,\n",
       "  'num_epochs': 200,\n",
       "  'num_gpus': 1,\n",
       "  'num_nodes': 1,\n",
       "  'num_workers': 8,\n",
       "  'patience': 20,\n",
       "  'use_loglog': True}}"
      ]
     },
     "execution_count": 5,
     "metadata": {},
     "output_type": "execute_result"
    }
   ],
   "source": [
    "config"
   ]
  },
  {
   "cell_type": "code",
   "execution_count": 6,
   "metadata": {},
   "outputs": [],
   "source": [
    "config[\"model\"][\"vae_class\"] = \"ResVAE\""
   ]
  },
  {
   "cell_type": "code",
   "execution_count": 7,
   "metadata": {},
   "outputs": [
    {
     "data": {
      "text/plain": [
       "{'dataset': {'conversion_dict_path': '/projects/pnria/DATA/AUTOFILL/v2/all_data_saxs_v2.json',\n",
       "  'hdf5_file': '/projects/pnria/DATA/AUTOFILL/v2/all_data_saxs_v2.h5',\n",
       "  'metadata_filters': {'material': ['ag'],\n",
       "   'technique': ['saxs'],\n",
       "   'type': ['simulation']},\n",
       "  'requested_metadata': ['shape', 'material'],\n",
       "  'sample_frac': 1.0,\n",
       "  'transform': {'q': {'PaddingTransformer': {'pad_size': 500, 'value': 0}},\n",
       "   'y': {'MinMaxNormalizer': {},\n",
       "    'PaddingTransformer': {'pad_size': 500, 'value': 0}}}},\n",
       " 'devices': '1',\n",
       " 'experiment_name': 'grid_ag_saxs_beta0.0001_ld64_bs16',\n",
       " 'model': {'args': {'dilation': 1,\n",
       "   'down_channels': [16, 32, 64, 128, 256, 512],\n",
       "   'in_channels': 1,\n",
       "   'input_dim': 500,\n",
       "   'latent_dim': 64,\n",
       "   'output_channels': 1,\n",
       "   'strat': 'y',\n",
       "   'up_channels': [512, 256, 128, 64, 32, 16]},\n",
       "  'output_transform_log': True,\n",
       "  'vae_class': 'ResVAE'},\n",
       " 'name': 'saxs_ag_gpu1',\n",
       " 'training': {'T_max': 200,\n",
       "  'batch_size': 16,\n",
       "  'beta': 0.0001,\n",
       "  'eta_min': 1e-08,\n",
       "  'max_lr': 0.0001,\n",
       "  'num_epochs': 200,\n",
       "  'num_gpus': 1,\n",
       "  'num_nodes': 1,\n",
       "  'num_workers': 8,\n",
       "  'patience': 20,\n",
       "  'use_loglog': True}}"
      ]
     },
     "execution_count": 7,
     "metadata": {},
     "output_type": "execute_result"
    }
   ],
   "source": [
    "config"
   ]
  },
  {
   "cell_type": "markdown",
   "metadata": {},
   "source": [
    "# Model"
   ]
  },
  {
   "cell_type": "code",
   "execution_count": 8,
   "metadata": {
    "vscode": {
     "languageId": "plaintext"
    }
   },
   "outputs": [
    {
     "name": "stdout",
     "output_type": "stream",
     "text": [
      "VAE Architecture:\n",
      "\tInput Dimension: 500\n",
      "\tLatent Dimension: 64\n",
      "\tIn Channels: 1\n",
      "\tDown Channels: [16, 32, 64, 128, 256, 512]\n",
      "\tUp Channels: [512, 256, 128, 64, 32, 16]\n",
      "\tOutput Channels: 1\n",
      "\tFlattened Size: 2048\n",
      "\tEncoder Architecture: Sequential(\n",
      "  (0): ResidualBlock(\n",
      "    (conv1): Conv1d(1, 16, kernel_size=(3,), stride=(2,), padding=(1,))\n",
      "    (relu): ReLU()\n",
      "    (conv2): Conv1d(16, 16, kernel_size=(3,), stride=(1,), padding=(1,))\n",
      "    (skip_connection): Conv1d(1, 16, kernel_size=(1,), stride=(2,))\n",
      "  )\n",
      "  (1): ResidualBlock(\n",
      "    (conv1): Conv1d(16, 32, kernel_size=(3,), stride=(2,), padding=(1,))\n",
      "    (relu): ReLU()\n",
      "    (conv2): Conv1d(32, 32, kernel_size=(3,), stride=(1,), padding=(1,))\n",
      "    (skip_connection): Conv1d(16, 32, kernel_size=(1,), stride=(2,))\n",
      "  )\n",
      "  (2): ResidualBlock(\n",
      "    (conv1): Conv1d(32, 64, kernel_size=(3,), stride=(2,), padding=(1,))\n",
      "    (relu): ReLU()\n",
      "    (conv2): Conv1d(64, 64, kernel_size=(3,), stride=(1,), padding=(1,))\n",
      "    (skip_connection): Conv1d(32, 64, kernel_size=(1,), stride=(2,))\n",
      "  )\n",
      "  (3): ResidualBlock(\n",
      "    (conv1): Conv1d(64, 128, kernel_size=(3,), stride=(2,), padding=(1,))\n",
      "    (relu): ReLU()\n",
      "    (conv2): Conv1d(128, 128, kernel_size=(3,), stride=(1,), padding=(1,))\n",
      "    (skip_connection): Conv1d(64, 128, kernel_size=(1,), stride=(2,))\n",
      "  )\n",
      "  (4): ResidualBlock(\n",
      "    (conv1): Conv1d(128, 256, kernel_size=(3,), stride=(2,), padding=(1,))\n",
      "    (relu): ReLU()\n",
      "    (conv2): Conv1d(256, 256, kernel_size=(3,), stride=(1,), padding=(1,))\n",
      "    (skip_connection): Conv1d(128, 256, kernel_size=(1,), stride=(2,))\n",
      "  )\n",
      "  (5): ResidualBlock(\n",
      "    (conv1): Conv1d(256, 512, kernel_size=(3,), stride=(2,), padding=(1,))\n",
      "    (relu): ReLU()\n",
      "    (conv2): Conv1d(512, 512, kernel_size=(3,), stride=(1,), padding=(1,))\n",
      "    (skip_connection): Conv1d(256, 512, kernel_size=(1,), stride=(2,))\n",
      "  )\n",
      "  (6): Flatten(start_dim=1, end_dim=-1)\n",
      "  (7): Linear(in_features=4096, out_features=2048, bias=True)\n",
      "  (8): ReLU()\n",
      ")\n",
      "\tDecoder Architecture: Sequential(\n",
      "  (0): Linear(in_features=64, out_features=4096, bias=True)\n",
      "  (1): Unflatten(dim=1, unflattened_size=(512, 8))\n",
      "  (2): ResidualUpBlock(\n",
      "    (deconv1): ConvTranspose1d(512, 256, kernel_size=(3,), stride=(2,), padding=(1,))\n",
      "    (relu): ReLU()\n",
      "    (deconv2): Conv1d(256, 256, kernel_size=(3,), stride=(1,), padding=(1,))\n",
      "    (skip_connection): ConvTranspose1d(512, 256, kernel_size=(1,), stride=(2,), bias=False)\n",
      "  )\n",
      "  (3): ReLU()\n",
      "  (4): ResidualUpBlock(\n",
      "    (deconv1): ConvTranspose1d(256, 128, kernel_size=(3,), stride=(2,), padding=(1,))\n",
      "    (relu): ReLU()\n",
      "    (deconv2): Conv1d(128, 128, kernel_size=(3,), stride=(1,), padding=(1,))\n",
      "    (skip_connection): ConvTranspose1d(256, 128, kernel_size=(1,), stride=(2,), bias=False)\n",
      "  )\n",
      "  (5): ReLU()\n",
      "  (6): ResidualUpBlock(\n",
      "    (deconv1): ConvTranspose1d(128, 64, kernel_size=(3,), stride=(2,), padding=(1,))\n",
      "    (relu): ReLU()\n",
      "    (deconv2): Conv1d(64, 64, kernel_size=(3,), stride=(1,), padding=(1,))\n",
      "    (skip_connection): ConvTranspose1d(128, 64, kernel_size=(1,), stride=(2,), bias=False)\n",
      "  )\n",
      "  (7): ReLU()\n",
      "  (8): ResidualUpBlock(\n",
      "    (deconv1): ConvTranspose1d(64, 32, kernel_size=(3,), stride=(2,), padding=(1,))\n",
      "    (relu): ReLU()\n",
      "    (deconv2): Conv1d(32, 32, kernel_size=(3,), stride=(1,), padding=(1,))\n",
      "    (skip_connection): ConvTranspose1d(64, 32, kernel_size=(1,), stride=(2,), bias=False)\n",
      "  )\n",
      "  (9): ReLU()\n",
      "  (10): ResidualUpBlock(\n",
      "    (deconv1): ConvTranspose1d(32, 16, kernel_size=(3,), stride=(2,), padding=(1,))\n",
      "    (relu): ReLU()\n",
      "    (deconv2): Conv1d(16, 16, kernel_size=(3,), stride=(1,), padding=(1,))\n",
      "    (skip_connection): ConvTranspose1d(32, 16, kernel_size=(1,), stride=(2,), bias=False)\n",
      "  )\n",
      "  (11): ReLU()\n",
      "  (12): ResidualUpBlock(\n",
      "    (deconv1): ConvTranspose1d(16, 1, kernel_size=(3,), stride=(2,), padding=(1,))\n",
      "    (relu): ReLU()\n",
      "    (deconv2): Conv1d(1, 1, kernel_size=(3,), stride=(1,), padding=(1,))\n",
      "    (skip_connection): ConvTranspose1d(16, 1, kernel_size=(1,), stride=(2,), bias=False)\n",
      "  )\n",
      "  (13): Upsample(size=500, mode='nearest')\n",
      "  (14): Sigmoid()\n",
      ")\n"
     ]
    }
   ],
   "source": [
    "model = PlVAE(config)"
   ]
  },
  {
   "cell_type": "code",
   "execution_count": 9,
   "metadata": {
    "vscode": {
     "languageId": "plaintext"
    }
   },
   "outputs": [
    {
     "data": {
      "text/plain": [
       "<All keys matched successfully>"
      ]
     },
     "execution_count": 9,
     "metadata": {},
     "output_type": "execute_result"
    }
   ],
   "source": [
    "checkpoint = torch.load(path_checkpoint, map_location=torch.device('cuda' if torch.cuda.is_available() else 'cpu'))\n",
    "model.load_state_dict(checkpoint['state_dict'])"
   ]
  },
  {
   "cell_type": "markdown",
   "metadata": {},
   "source": [
    "# Dataset"
   ]
  },
  {
   "cell_type": "code",
   "execution_count": 10,
   "metadata": {
    "vscode": {
     "languageId": "plaintext"
    }
   },
   "outputs": [
    {
     "name": "stdout",
     "output_type": "stream",
     "text": [
      "['concentration', 'd', 'h', 'material', 'method', 'opticalPathLength', 'pair_index', 'shape', 'technique', 'type']\n"
     ]
    },
    {
     "name": "stderr",
     "output_type": "stream",
     "text": [
      "Applying filters: 100%|██████████| 3/3 [00:01<00:00,  1.98it/s]"
     ]
    },
    {
     "name": "stdout",
     "output_type": "stream",
     "text": [
      "========================================\n"
     ]
    },
    {
     "name": "stderr",
     "output_type": "stream",
     "text": [
      "\n"
     ]
    }
   ],
   "source": [
    "dataset = HDF5Dataset(\n",
    "hdf5_file = config[\"dataset\"][\"hdf5_file\"],\n",
    "metadata_filters = config[\"dataset\"][\"metadata_filters\"],\n",
    "conversion_dict_path = config[\"dataset\"][\"conversion_dict_path\"],\n",
    "sample_frac = config[\"dataset\"][\"sample_frac\"],\n",
    "transform =  config[\"dataset\"][\"transform\"],\n",
    "requested_metadata =  config[\"dataset\"][\"requested_metadata\"],\n",
    ")\n",
    "print(\"========================================\")"
   ]
  },
  {
   "cell_type": "code",
   "execution_count": 11,
   "metadata": {},
   "outputs": [
    {
     "data": {
      "text/plain": [
       "52302"
      ]
     },
     "execution_count": 11,
     "metadata": {},
     "output_type": "execute_result"
    }
   ],
   "source": [
    "len(dataset)"
   ]
  },
  {
   "cell_type": "markdown",
   "metadata": {},
   "source": [
    "# Plot"
   ]
  },
  {
   "cell_type": "code",
   "execution_count": 43,
   "metadata": {},
   "outputs": [],
   "source": [
    "def plot(idx_sample, tech=\"saxs\"):\n",
    "    one_sample = dataset[idx_sample]\n",
    "    \n",
    "    one_sample = {k:v.unsqueeze(0) if (\"data_\" in k and not \"min\" in k and not \"max\" in k) else v for k,v in one_sample.items()}\n",
    "    output = model(one_sample)\n",
    "    x = one_sample[\"data_y\"]\n",
    "    recon = output[\"recon\"]\n",
    "\n",
    "    recon = recon.detach().numpy().flatten()\n",
    "    recon = recon*(one_sample[\"data_y_max\"] - one_sample[\"data_y_min\"]) + one_sample[\"data_y_min\"]\n",
    "\n",
    "    x = x.detach().numpy().flatten()\n",
    "    x = x*(one_sample[\"data_y_max\"] - one_sample[\"data_y_min\"]) + one_sample[\"data_y_min\"]\n",
    "    print(x.max())\n",
    "\n",
    "    plt.figure(figsize=(15,8))\n",
    "    if tech == \"saxs\" :\n",
    "        print(\"here\")\n",
    "        plt.loglog(x, label=\"truth\")\n",
    "        plt.loglog(recon, label=\"pred recon\")\n",
    "    else :\n",
    "        plt.plot(x, label=\"truth\")\n",
    "        plt.plot(recon, label=\"pred recon\")\n",
    "    plt.title(\"Plot\")\n",
    "    plt.legend()\n",
    "    plt.tight_layout()\n",
    "    plt.show()"
   ]
  },
  {
   "cell_type": "code",
   "execution_count": 44,
   "metadata": {},
   "outputs": [
    {
     "name": "stdout",
     "output_type": "stream",
     "text": [
      "0.3921756\n",
      "here\n"
     ]
    },
    {
     "data": {
      "image/png": "[encoded data removed]",
      "text/plain": [
       "<Figure size 1500x800 with 1 Axes>"
      ]
     },
     "metadata": {},
     "output_type": "display_data"
    }
   ],
   "source": [
    "plot(14)"
   ]
  },
  {
   "cell_type": "code",
   "execution_count": null,
   "metadata": {},
   "outputs": [],
   "source": [
    "plot(19)"
   ]
  },
  {
   "cell_type": "code",
   "execution_count": null,
   "metadata": {},
   "outputs": [],
   "source": [
    "plot(789)"
   ]
  },
  {
   "cell_type": "code",
   "execution_count": null,
   "metadata": {},
   "outputs": [],
   "source": [
    "plot(800)"
   ]
  },
  {
   "cell_type": "code",
   "execution_count": null,
   "metadata": {},
   "outputs": [],
   "source": [
    "plot(491)"
   ]
  },
  {
   "cell_type": "code",
   "execution_count": null,
   "metadata": {},
   "outputs": [],
   "source": [
    "plot(485)"
   ]
  },
  {
   "cell_type": "code",
   "execution_count": null,
   "metadata": {},
   "outputs": [],
   "source": [
    "plot(756)"
   ]
  },
  {
   "cell_type": "code",
   "execution_count": null,
   "metadata": {},
   "outputs": [],
   "source": [
    "plot(409)"
   ]
  },
  {
   "cell_type": "code",
   "execution_count": null,
   "metadata": {},
   "outputs": [],
   "source": []
  },
  {
   "cell_type": "code",
   "execution_count": null,
   "metadata": {},
   "outputs": [],
   "source": []
  }
 ],
 "metadata": {
  "kernelspec": {
   "display_name": "Python 3 (ipykernel)",
   "language": "python",
   "name": "python3"
  },
  "language_info": {
   "codemirror_mode": {
    "name": "ipython",
    "version": 3
   },
   "file_extension": ".py",
   "mimetype": "text/x-python",
   "name": "python",
   "nbconvert_exporter": "python",
   "pygments_lexer": "ipython3",
   "version": "3.10.12"
  }
 },
 "nbformat": 4,
 "nbformat_minor": 4
}
