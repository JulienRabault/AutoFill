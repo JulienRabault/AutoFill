{
 "cells": [
  {
   "cell_type": "code",
   "execution_count": 1,
   "id": "886e75fb-e83b-45f1-95e5-7341d053c8ef",
   "metadata": {},
   "outputs": [
    {
     "name": "stderr",
     "output_type": "stream",
     "text": [
      "/home/cdepourt/.local/lib/python3.10/site-packages/tqdm/auto.py:21: TqdmWarning: IProgress not found. Please update jupyter and ipywidgets. See https://ipywidgets.readthedocs.io/en/stable/user_install.html\n",
      "  from .autonotebook import tqdm as notebook_tqdm\n"
     ]
    }
   ],
   "source": [
    "import torch\n",
    "import yaml \n",
    "import json\n",
    "import os\n",
    "import yaml\n",
    "import random\n",
    "\n",
    "\n",
    "from model.pl_PairVAE import PlPairVAE\n",
    "from dataset.datasetPairH5 import PairHDF5Dataset\n"
   ]
  },
  {
   "cell_type": "code",
   "execution_count": 2,
   "id": "21b31d1f",
   "metadata": {},
   "outputs": [],
   "source": [
    "# Create output directory\n",
    "output_dir = \"/projects/pnria/caroline/AUTOFILL/export_vae_pair\"\n",
    "os.makedirs(output_dir, exist_ok=True)"
   ]
  },
  {
   "cell_type": "markdown",
   "id": "613ce1f9-46a6-42b4-8c05-6de936abcf39",
   "metadata": {},
   "source": [
    "# Params"
   ]
  },
  {
   "cell_type": "code",
   "execution_count": 3,
   "id": "fa6fcf54-7ee8-4dd6-a2f5-d9d83c6bab45",
   "metadata": {},
   "outputs": [],
   "source": [
    "path_checkpoint = \"/projects/pnria/julien/autofill/runs_pair/grid_ag_wlat0.0001_wsaxs2saxs0.04_wsaxs2les0.05_wles2les0.04_wles2saxs0.05/best.ckpt\"\n",
    "path_config = \"/projects/pnria/julien/autofill/runs_pair/grid_ag_wlat0.0001_wsaxs2saxs0.04_wsaxs2les0.05_wles2les0.04_wles2saxs0.05/config_model.yaml\""
   ]
  },
  {
   "cell_type": "code",
   "execution_count": 4,
   "id": "22058e8c-c71b-4044-b1eb-331029117aed",
   "metadata": {},
   "outputs": [],
   "source": [
    "\n",
    "\n",
    "with open(path_config, 'r') as file:\n",
    "    config = yaml.safe_load(file)\n",
    "\n"
   ]
  },
  {
   "cell_type": "code",
   "execution_count": 5,
   "id": "0f6fc4b3-7c14-478a-8e05-2462098cb12c",
   "metadata": {},
   "outputs": [
    {
     "data": {
      "text/plain": [
       "{'dataset': {'conversion_dict_path': '/projects/pnria/caroline/AUTOFILL/conversion_dict_all.json',\n",
       "  'hdf5_file': '/projects/pnria/caroline/AUTOFILL/pair_saxs_les_closest_of_concentration.h5',\n",
       "  'metadata_filters': {'material': ['ag']},\n",
       "  'requested_metadata': ['shape', 'material'],\n",
       "  'sample_frac': 1.0,\n",
       "  'transform': {'q_les': {'PaddingTransformer': {'pad_size': 500, 'value': 0}},\n",
       "   'q_saxs': {'PaddingTransformer': {'pad_size': 500, 'value': 0}},\n",
       "   'y_les': {'MinMaxNormalizer': {},\n",
       "    'PaddingTransformer': {'pad_size': 500, 'value': 0}},\n",
       "   'y_saxs': {'MinMaxNormalizer': {},\n",
       "    'PaddingTransformer': {'pad_size': 500, 'value': 0}}}},\n",
       " 'devices': '1',\n",
       " 'experiment_name': 'grid_ag_wlat0.0001_wsaxs2saxs0.04_wsaxs2les0.05_wles2les0.04_wles2saxs0.05',\n",
       " 'model': {'VAE_LES': {'args': None,\n",
       "   'path_checkpoint': '/projects/pnria/julien/autofill/runs/grid_ag_les_beta0.0001_etamin1e-07_ld64_bs64/epoch=73-step=1593590.ckpt',\n",
       "   'path_config': '/projects/pnria/julien/autofill/runs/grid_ag_les_beta0.0001_etamin1e-07_ld64_bs64/config_model.yaml',\n",
       "   'vae_class': 'ResVAE'},\n",
       "  'VAE_SAXS': {'args': None,\n",
       "   'path_checkpoint': '/projects/pnria/julien/autofill/runs/grid_ag_saxs_beta0.0001_ld64_bs16/epoch=197-step=517968.ckpt',\n",
       "   'path_config': '/projects/pnria/julien/autofill/runs/grid_ag_saxs_beta0.0001_ld64_bs16/config_model.yaml',\n",
       "   'vae_class': 'ResVAE'},\n",
       "  'output_saxs_transform_log': True},\n",
       " 'name': 'None_ag_gpu1',\n",
       " 'training': {'T_max': 100,\n",
       "  'batch_size': 64,\n",
       "  'eta_min': 1e-06,\n",
       "  'lambda_param': 0.005,\n",
       "  'max_lr': 0.0001,\n",
       "  'num_epochs': 300,\n",
       "  'num_gpus': 1,\n",
       "  'num_nodes': 1,\n",
       "  'num_workers': 3,\n",
       "  'patience': 20,\n",
       "  'use_loglog': True,\n",
       "  'weight_latent_similarity': 0.0001,\n",
       "  'weight_les2les': 0.04,\n",
       "  'weight_les2saxs': 0.05,\n",
       "  'weight_saxs2les': 0.05,\n",
       "  'weight_saxs2saxs': 0.04}}"
      ]
     },
     "execution_count": 5,
     "metadata": {},
     "output_type": "execute_result"
    }
   ],
   "source": [
    "config"
   ]
  },
  {
   "cell_type": "code",
   "execution_count": 6,
   "id": "cd4f82da-b8e3-4f39-8c6f-ea07fe9cb12f",
   "metadata": {},
   "outputs": [],
   "source": [
    "config[\"dataset\"][\"requested_metadata\"].append(\"concentration\")\n",
    "config[\"dataset\"][\"requested_metadata\"].append(\"dimension1\")\n",
    "config[\"dataset\"][\"requested_metadata\"].append(\"dimension2\")\n",
    "config[\"dataset\"][\"requested_metadata\"].append('opticalPathLength')"
   ]
  },
  {
   "cell_type": "code",
   "execution_count": 7,
   "id": "c014b87a-137c-4ad6-b332-0245f1d159b3",
   "metadata": {},
   "outputs": [
    {
     "data": {
      "text/plain": [
       "['shape',\n",
       " 'material',\n",
       " 'concentration',\n",
       " 'dimension1',\n",
       " 'dimension2',\n",
       " 'opticalPathLength']"
      ]
     },
     "execution_count": 7,
     "metadata": {},
     "output_type": "execute_result"
    }
   ],
   "source": [
    "config[\"dataset\"][\"requested_metadata\"]"
   ]
  },
  {
   "cell_type": "code",
   "execution_count": 8,
   "id": "c9b61d26-607e-4f7f-9805-5b03c37a0dd6",
   "metadata": {},
   "outputs": [],
   "source": [
    "config[\"dataset\"][\"hdf5_file\"] = \"/projects/pnria/caroline/AUTOFILL/pair_saxs_les_closest_of_concentration.h5\""
   ]
  },
  {
   "cell_type": "code",
   "execution_count": 9,
   "id": "c0783e0c-9edc-4844-aa3b-8eb1dc55721c",
   "metadata": {},
   "outputs": [],
   "source": [
    "config[\"dataset\"][\"conversion_dict_path\"] = \"/projects/pnria/caroline/AUTOFILL/conversion_dict_all.json\""
   ]
  },
  {
   "cell_type": "code",
   "execution_count": 10,
   "id": "e942aea9-c23b-4098-9d77-8ee5c89994eb",
   "metadata": {},
   "outputs": [
    {
     "name": "stdout",
     "output_type": "stream",
     "text": [
      "========================================\n",
      "INIT VAE SAXS\n",
      "{'dilation': 1, 'down_channels': [16, 32, 64, 128, 256, 512], 'in_channels': 1, 'input_dim': 500, 'latent_dim': 64, 'output_channels': 1, 'strat': 'y', 'up_channels': [512, 256, 128, 64, 32, 16]}\n",
      "LOADING CKPT SAXS\n",
      "========================================\n",
      "========================================\n",
      "INIT VAE LES\n",
      "{'dilation': 1, 'down_channels': [16, 32, 64, 128, 256], 'in_channels': 1, 'input_dim': 500, 'latent_dim': 64, 'output_channels': 1, 'strat': 'y', 'up_channels': [256, 128, 64, 32, 16]}\n",
      "LOADING CKPT LES\n",
      "========================================\n"
     ]
    }
   ],
   "source": [
    "model = PlPairVAE(config)"
   ]
  },
  {
   "cell_type": "code",
   "execution_count": 11,
   "id": "522798af-40bf-4e75-901c-11b63317ce50",
   "metadata": {},
   "outputs": [
    {
     "data": {
      "text/plain": [
       "<All keys matched successfully>"
      ]
     },
     "execution_count": 11,
     "metadata": {},
     "output_type": "execute_result"
    }
   ],
   "source": [
    "checkpoint = torch.load(path_checkpoint, map_location=torch.device('cuda' if torch.cuda.is_available() else 'cpu'))\n",
    "model.load_state_dict(checkpoint['state_dict'])"
   ]
  },
  {
   "cell_type": "code",
   "execution_count": 12,
   "id": "fbceb17f-27e4-45d7-9e20-c8d70f5c2f0b",
   "metadata": {},
   "outputs": [
    {
     "name": "stderr",
     "output_type": "stream",
     "text": [
      "/home/cdepourt/PRIVE/AUTOFILL/dataset/datasetPairH5.py:74: UserWarning: Missing requested metadata columns: {'opticalPathLength', 'concentration'}\n",
      "  warnings.warn(f\"Missing requested metadata columns: {missing}\")\n",
      "Applying filters: 100%|██████████| 1/1 [00:00<00:00,  4.28it/s]"
     ]
    },
    {
     "name": "stdout",
     "output_type": "stream",
     "text": [
      "\n",
      "╒══════════════════════════════════════════════╕\n",
      "│ Dataset Initialization Info                 │\n",
      "╞══════════════════════════════════════════════╡\n",
      "│ File: /projects/pnria/caroline/AUTOFILL/pair_saxs_les_closest_of_concentration.h5 │\n",
      "│ Total samples: 41841                      │\n",
      "│ Samples filtered: 41824                   │\n",
      "│ Requested fraction: 1.0                    │\n",
      "│ Fractioned samples: 41824                  │\n",
      "│ Requested metadata: 4                      │\n",
      "========================================\n"
     ]
    },
    {
     "name": "stderr",
     "output_type": "stream",
     "text": [
      "\n"
     ]
    }
   ],
   "source": [
    "dataset = PairHDF5Dataset(\n",
    "hdf5_file = config[\"dataset\"][\"hdf5_file\"],\n",
    "metadata_filters = config[\"dataset\"][\"metadata_filters\"],\n",
    "conversion_dict_path = config[\"dataset\"][\"conversion_dict_path\"],\n",
    "sample_frac = config[\"dataset\"][\"sample_frac\"],\n",
    "transform =  config[\"dataset\"][\"transform\"],\n",
    "requested_metadata =  config[\"dataset\"][\"requested_metadata\"],\n",
    ")\n",
    "print(\"========================================\")"
   ]
  },
  {
   "cell_type": "code",
   "execution_count": 13,
   "id": "8c5ef1df-b681-4c3e-b317-e2cdbc485f81",
   "metadata": {},
   "outputs": [],
   "source": [
    "with open(config[\"dataset\"][\"conversion_dict_path\"], 'r') as file:\n",
    "    conversion_dict = json.load(file)"
   ]
  },
  {
   "cell_type": "code",
   "execution_count": 14,
   "id": "0f64426e-c131-4aba-a997-9d31909f8ac5",
   "metadata": {},
   "outputs": [
    {
     "data": {
      "text/plain": [
       "{'material': {'latex': 0, 'sio2': 1, 'ag': 2},\n",
       " 'shape': {'sphere': 0, 'cylinder': 1}}"
      ]
     },
     "execution_count": 14,
     "metadata": {},
     "output_type": "execute_result"
    }
   ],
   "source": [
    "conversion_dict"
   ]
  },
  {
   "cell_type": "code",
   "execution_count": null,
   "id": "1af5d988-ba94-4d57-a9e8-87d122ddf894",
   "metadata": {},
   "outputs": [],
   "source": []
  },
  {
   "cell_type": "code",
   "execution_count": 15,
   "id": "148ef6e0-a03f-4f04-8ee3-3f8afde250c6",
   "metadata": {},
   "outputs": [],
   "source": [
    "# Sample 1000 random indices from the dataset\n",
    "random.seed(42)\n",
    "indices = random.sample(range(len(dataset)), 100)\n",
    "\n",
    "# Process each selected item\n",
    "for file_idx, data_idx in enumerate(indices):\n",
    "    data_item = dataset[data_idx]\n",
    "    data_metadata = data_item[\"metadata\"]\n",
    "\n",
    "    org_y_saxs = data_item[\"data_y_saxs\"]\n",
    "    org_q_saxs = data_item[\"data_q_saxs\"].detach().numpy().flatten()\n",
    "    org_y_les = data_item[\"data_y_les\"]\n",
    "    org_q_les = data_item[\"data_q_les\"].detach().numpy().flatten()\n",
    "\n",
    "    data_item = {k:v.unsqueeze(0) if (\"data_\" in k and not \"min\" in k and not \"max\" in k) else v for k,v in data_item.items()}\n",
    "    output = model(data_item)\n",
    "\n",
    "    recon_y_saxs2saxs = output[\"recon_saxs\"].detach().numpy().flatten()\n",
    "    recon_y_saxs2les = output[\"recon_saxs2les\"].detach().numpy().flatten()\n",
    "    recon_y_les2saxs = output[\"recon_les2saxs\"].detach().numpy().flatten()\n",
    "    recon_y_les2les = output[\"recon_les\"].detach().numpy().flatten()\n",
    "\n",
    "    recon_y_saxs2saxs = recon_y_saxs2saxs * (data_item[\"data_y_saxs_max\"] - data_item[\"data_y_saxs_min\"]) + data_item[\"data_y_saxs_min\"]\n",
    "    recon_y_les2saxs = recon_y_les2saxs * (data_item[\"data_y_saxs_max\"] - data_item[\"data_y_saxs_min\"]) + data_item[\"data_y_saxs_min\"]\n",
    "\n",
    "    os.makedirs(os.path.join(output_dir, str(file_idx)), exist_ok=True)\n",
    "    txt_filename = os.path.join(output_dir, str(file_idx), f\"sample_saxs2saxs_idx_{file_idx:04d}.txt\")\n",
    "    with open(txt_filename, \"w\") as txt_file:\n",
    "        for org_q_val, recon_val in zip(org_q_saxs, recon_y_saxs2saxs): \n",
    "            txt_file.write(f\"{org_q_val} {recon_val}\\n\")\n",
    "\n",
    "    txt_filename = os.path.join(output_dir, str(file_idx), f\"sample_saxs2les_idx_{file_idx:04d}.txt\")\n",
    "    with open(txt_filename, \"w\") as txt_file:\n",
    "        for org_q_val, recon_val in zip(org_q_les, recon_y_saxs2les): \n",
    "            txt_file.write(f\"{org_q_val} {recon_val}\\n\")\n",
    "\n",
    "    txt_filename = os.path.join(output_dir, str(file_idx), f\"sample_les2saxs_idx_{file_idx:04d}.txt\")\n",
    "    with open(txt_filename, \"w\") as txt_file:\n",
    "        for org_q_val, recon_val in zip(org_q_saxs, recon_y_les2saxs): \n",
    "            txt_file.write(f\"{org_q_val} {recon_val}\\n\")\n",
    "\n",
    "    txt_filename = os.path.join(output_dir, str(file_idx), f\"sample_les2les_idx_{file_idx:04d}.txt\")\n",
    "    with open(txt_filename, \"w\") as txt_file:\n",
    "        for org_q_val, recon_val in zip(org_q_les, recon_y_les2les): \n",
    "            txt_file.write(f\"{org_q_val} {recon_val}\\n\")\n",
    "\n",
    "\n",
    "\n",
    "    # Convert metadata\n",
    "    converted_metadata = {}\n",
    "    for k, v in data_metadata.items():\n",
    "        v = v.cpu().numpy().item()\n",
    "        if k in conversion_dict:\n",
    "            inv_conv = conversion_dict[k]\n",
    "            inv_conv = {v_: k_ for k_, v_ in inv_conv.items()}\n",
    "            v = inv_conv.get(v, v)\n",
    "        converted_metadata[k] = v\n",
    "    yaml_filename = os.path.join(output_dir, str(file_idx), f\"sample_{file_idx:04d}.yaml\")\n",
    "    with open(yaml_filename, \"w\") as yaml_file:\n",
    "        yaml.dump(converted_metadata, yaml_file)\n"
   ]
  },
  {
   "cell_type": "code",
   "execution_count": null,
   "id": "8bbd546d-2b34-43d7-bbc5-28ecec4fcd5e",
   "metadata": {},
   "outputs": [],
   "source": []
  }
 ],
 "metadata": {
  "kernelspec": {
   "display_name": "Python 3 (ipykernel)",
   "language": "python",
   "name": "python3"
  },
  "language_info": {
   "codemirror_mode": {
    "name": "ipython",
    "version": 3
   },
   "file_extension": ".py",
   "mimetype": "text/x-python",
   "name": "python",
   "nbconvert_exporter": "python",
   "pygments_lexer": "ipython3",
   "version": "3.10.12"
  }
 },
 "nbformat": 4,
 "nbformat_minor": 5
}
