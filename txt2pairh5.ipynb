{
 "cells": [
  {
   "cell_type": "code",
   "execution_count": null,
   "metadata": {},
   "outputs": [],
   "source": [
    "import pandas as pd\n",
    "from dataset.converter.pairtxtTOhdf5 import PairTextToHDF5Converter\n",
    "import os\n"
   ]
  },
  {
   "cell_type": "markdown",
   "metadata": {},
   "source": [
    "# Load data"
   ]
  },
  {
   "cell_type": "code",
   "execution_count": null,
   "metadata": {},
   "outputs": [],
   "source": [
    "# Chemin vers métadonnées\n",
    "data_csv_path = \"data/technique_pair_of_material_shape_dimension1_dimension2_closest_of_concentration.csv\"\n",
    "if not os.path.exists(data_csv_path):\n",
    "    raise FileNotFoundError(f\"CSV file not found: {data_csv_path}\")\n",
    "\n",
    "# Chemin vers les données txt\n",
    "data_dir = '/projects/pnria/DATA/AUTOFILL/'"
   ]
  },
  {
   "cell_type": "code",
   "execution_count": null,
   "metadata": {},
   "outputs": [],
   "source": [
    "# attention au séparateur de données, parfois \",\" parfois \";\"\n",
    "sep = ','\n",
    "dataframe = pd.read_csv(data_csv_path, sep=sep)"
   ]
  },
  {
   "cell_type": "markdown",
   "metadata": {},
   "source": [
    "# Some problems on csv with directory of data"
   ]
  },
  {
   "cell_type": "code",
   "execution_count": null,
   "metadata": {},
   "outputs": [],
   "source": [
    "dataframe[\"les_path\"] = dataframe[\"les_path\"].apply(lambda chemin: chemin.replace(\"Base de donnée\", \"Base_de_donnee\"))\n",
    "dataframe[\"saxs_path\"] = dataframe[\"saxs_path\"].apply(lambda chemin: chemin.replace(\"Base de donnée\", \"Base_de_donnee\"))"
   ]
  },
  {
   "cell_type": "code",
   "execution_count": null,
   "metadata": {},
   "outputs": [],
   "source": [
    "dataframe[\"les_path\"] = dataframe[\"les_path\"].apply(lambda chemin: chemin.replace(\"\\\\\", \"/\"))\n",
    "dataframe[\"saxs_path\"] = dataframe[\"saxs_path\"].apply(lambda chemin: chemin.replace(\"\\\\\", \"/\"))\n"
   ]
  },
  {
   "cell_type": "code",
   "execution_count": null,
   "metadata": {},
   "outputs": [],
   "source": [
    "dataframe"
   ]
  },
  {
   "cell_type": "markdown",
   "metadata": {},
   "source": [
    "# Params"
   ]
  },
  {
   "cell_type": "code",
   "execution_count": null,
   "metadata": {},
   "outputs": [],
   "source": [
    "pad_size=90"
   ]
  },
  {
   "cell_type": "code",
   "execution_count": null,
   "metadata": {},
   "outputs": [],
   "source": [
    "# Chemin du h5 final\n",
    "final_output_file = 'pair_saxs_les_closest_of_concentration.h5'\n",
    "# Chemin du json final - utilisé pour convertir les métadonnées str-int\n",
    "json_output = 'conversion_dict_all.json'"
   ]
  },
  {
   "cell_type": "markdown",
   "metadata": {},
   "source": [
    "# Format"
   ]
  },
  {
   "cell_type": "code",
   "execution_count": null,
   "metadata": {},
   "outputs": [],
   "source": [
    "\n",
    "converter = PairTextToHDF5Converter(dataframe=dataframe, \n",
    "                                    pad_size=pad_size,\n",
    "                                    data_dir=data_dir, \n",
    "                                    output_dir='./', \n",
    "                                    final_output_file=final_output_file, \n",
    "                                    json_output=json_output)\n",
    "converter.convert()\n",
    "print(f\"Data successfully converted to {final_output_file}\")\n"
   ]
  },
  {
   "cell_type": "code",
   "execution_count": null,
   "metadata": {},
   "outputs": [],
   "source": []
  }
 ],
 "metadata": {
  "kernelspec": {
   "display_name": "Python 3 (ipykernel)",
   "language": "python",
   "name": "python3"
  },
  "language_info": {
   "codemirror_mode": {
    "name": "ipython",
    "version": 3
   },
   "file_extension": ".py",
   "mimetype": "text/x-python",
   "name": "python",
   "nbconvert_exporter": "python",
   "pygments_lexer": "ipython3",
   "version": "3.10.12"
  }
 },
 "nbformat": 4,
 "nbformat_minor": 4
}
