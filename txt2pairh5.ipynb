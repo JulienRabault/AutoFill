{
 "cells": [
  {
   "cell_type": "code",
   "execution_count": 1,
   "metadata": {},
   "outputs": [],
   "source": [
    "import pandas as pd\n",
    "from dataset.converter.pairtxtTOhdf5 import PairTextToHDF5Converter\n",
    "import os\n"
   ]
  },
  {
   "cell_type": "code",
   "execution_count": 2,
   "metadata": {},
   "outputs": [],
   "source": [
    "data_csv_path = \"technique_pair_of_material_shape_dimension1_dimension2_closest_of_concentration.csv\"\n",
    "\n",
    "if not os.path.exists(data_csv_path):\n",
    "    raise FileNotFoundError(f\"CSV file not found: {data_csv_path}\")\n",
    "\n",
    "dataframe = pd.read_csv(data_csv_path, sep=\";\")\n",
    "data_dir = '/projects/pnria/DATA/AUTOFILL/'"
   ]
  },
  {
   "cell_type": "code",
   "execution_count": 3,
   "metadata": {},
   "outputs": [],
   "source": [
    "dataframe[\"les_path\"] = dataframe[\"les_path\"].apply(lambda chemin: chemin.replace(\"Base de donnée\", \"Base_de_donnee\"))\n",
    "dataframe[\"saxs_path\"] = dataframe[\"saxs_path\"].apply(lambda chemin: chemin.replace(\"Base de donnée\", \"Base_de_donnee\"))"
   ]
  },
  {
   "cell_type": "code",
   "execution_count": 4,
   "metadata": {},
   "outputs": [],
   "source": [
    "dataframe[\"les_path\"] = dataframe[\"les_path\"].apply(lambda chemin: chemin.replace(\"\\\\\", \"/\"))\n",
    "dataframe[\"saxs_path\"] = dataframe[\"saxs_path\"].apply(lambda chemin: chemin.replace(\"\\\\\", \"/\"))\n"
   ]
  },
  {
   "cell_type": "code",
   "execution_count": 5,
   "metadata": {},
   "outputs": [],
   "source": [
    "dataframe['les_path'] = dataframe['les_path'].apply(lambda x: x[1:] if x.startswith('/') else x)\n",
    "dataframe['saxs_path'] = dataframe['saxs_path'].apply(lambda x: x[1:] if x.startswith('/') else x)"
   ]
  },
  {
   "cell_type": "code",
   "execution_count": 6,
   "metadata": {},
   "outputs": [],
   "source": [
    "dataframe['les_path'] = dataframe['les_path'].apply(lambda chemin: chemin.replace(\"SIO22\", \"SiO22\"))\n",
    "dataframe['saxs_path'] = dataframe['saxs_path'].apply(lambda chemin: chemin.replace(\"SIO22\", \"SiO22\"))\n"
   ]
  },
  {
   "cell_type": "code",
   "execution_count": 7,
   "metadata": {},
   "outputs": [
    {
     "data": {
      "text/html": [
       "<div>\n",
       "<style scoped>\n",
       "    .dataframe tbody tr th:only-of-type {\n",
       "        vertical-align: middle;\n",
       "    }\n",
       "\n",
       "    .dataframe tbody tr th {\n",
       "        vertical-align: top;\n",
       "    }\n",
       "\n",
       "    .dataframe thead th {\n",
       "        text-align: right;\n",
       "    }\n",
       "</style>\n",
       "<table border=\"1\" class=\"dataframe\">\n",
       "  <thead>\n",
       "    <tr style=\"text-align: right;\">\n",
       "      <th></th>\n",
       "      <th>Unnamed: 0</th>\n",
       "      <th>saxs_path</th>\n",
       "      <th>les_path</th>\n",
       "      <th>material</th>\n",
       "      <th>shape</th>\n",
       "      <th>dimension1</th>\n",
       "      <th>dimension2</th>\n",
       "    </tr>\n",
       "  </thead>\n",
       "  <tbody>\n",
       "    <tr>\n",
       "      <th>0</th>\n",
       "      <td>0</td>\n",
       "      <td>Base_de_donnee/Latex/Sphère/simulation/SAXS/La...</td>\n",
       "      <td>Latex2/Latex_D=152_nm_Sphere_C=1029976271434_p...</td>\n",
       "      <td>latex</td>\n",
       "      <td>sphere</td>\n",
       "      <td>152.0</td>\n",
       "      <td>NaN</td>\n",
       "    </tr>\n",
       "    <tr>\n",
       "      <th>1</th>\n",
       "      <td>1</td>\n",
       "      <td>Base_de_donnee/Latex/Sphère/simulation/SAXS/La...</td>\n",
       "      <td>Latex2/Latex_D=203_nm_Sphere_C=990463347078_pa...</td>\n",
       "      <td>latex</td>\n",
       "      <td>sphere</td>\n",
       "      <td>203.0</td>\n",
       "      <td>NaN</td>\n",
       "    </tr>\n",
       "    <tr>\n",
       "      <th>2</th>\n",
       "      <td>2</td>\n",
       "      <td>Base_de_donnee/Latex/Sphère/simulation/SAXS/La...</td>\n",
       "      <td>Latex2/Latex_D=22_nm_Sphere_C=1003728061438_pa...</td>\n",
       "      <td>latex</td>\n",
       "      <td>sphere</td>\n",
       "      <td>22.0</td>\n",
       "      <td>NaN</td>\n",
       "    </tr>\n",
       "    <tr>\n",
       "      <th>3</th>\n",
       "      <td>3</td>\n",
       "      <td>Base_de_donnee/Latex/Sphère/simulation/SAXS/La...</td>\n",
       "      <td>Latex2/Latex_D=300_nm_Sphere_C=1009726816834_p...</td>\n",
       "      <td>latex</td>\n",
       "      <td>sphere</td>\n",
       "      <td>300.0</td>\n",
       "      <td>NaN</td>\n",
       "    </tr>\n",
       "    <tr>\n",
       "      <th>4</th>\n",
       "      <td>4</td>\n",
       "      <td>Base_de_donnee/Latex/Sphère/simulation/SAXS/La...</td>\n",
       "      <td>Latex2/Latex_D=400_nm_Sphere_C=352908299309_pa...</td>\n",
       "      <td>latex</td>\n",
       "      <td>sphere</td>\n",
       "      <td>400.0</td>\n",
       "      <td>NaN</td>\n",
       "    </tr>\n",
       "    <tr>\n",
       "      <th>...</th>\n",
       "      <td>...</td>\n",
       "      <td>...</td>\n",
       "      <td>...</td>\n",
       "      <td>...</td>\n",
       "      <td>...</td>\n",
       "      <td>...</td>\n",
       "      <td>...</td>\n",
       "    </tr>\n",
       "    <tr>\n",
       "      <th>41836</th>\n",
       "      <td>41836</td>\n",
       "      <td>SAXS_100k_Curve_Au_Ag/Ag/Cylindre/Ag_Cylinder_...</td>\n",
       "      <td>Ag2/Ag_D=99_nm_h=99_Cylindre_C=1023565036280_p...</td>\n",
       "      <td>ag</td>\n",
       "      <td>cylinder</td>\n",
       "      <td>99.0</td>\n",
       "      <td>99.0</td>\n",
       "    </tr>\n",
       "    <tr>\n",
       "      <th>41837</th>\n",
       "      <td>41837</td>\n",
       "      <td>SAXS_100k_Curve_Au_Ag/Ag/Cylindre/Ag_Cylinder_...</td>\n",
       "      <td>Ag2/Ag_D=99_nm_h=99_Cylindre_C=1238964488130_p...</td>\n",
       "      <td>ag</td>\n",
       "      <td>cylinder</td>\n",
       "      <td>99.0</td>\n",
       "      <td>99.0</td>\n",
       "    </tr>\n",
       "    <tr>\n",
       "      <th>41838</th>\n",
       "      <td>41838</td>\n",
       "      <td>SAXS_100k_Curve_Au_Ag/Ag/Cylindre/Ag_Cylinder_...</td>\n",
       "      <td>Ag2/Ag_D=99_nm_h=99_Cylindre_C=1772557449453_p...</td>\n",
       "      <td>ag</td>\n",
       "      <td>cylinder</td>\n",
       "      <td>99.0</td>\n",
       "      <td>99.0</td>\n",
       "    </tr>\n",
       "    <tr>\n",
       "      <th>41839</th>\n",
       "      <td>41839</td>\n",
       "      <td>SAXS_100k_Curve_Au_Ag/Ag/Cylindre/Ag_Cylinder_...</td>\n",
       "      <td>Ag2/Ag_D=99_nm_h=99_Cylindre_C=619482244065_pa...</td>\n",
       "      <td>ag</td>\n",
       "      <td>cylinder</td>\n",
       "      <td>99.0</td>\n",
       "      <td>99.0</td>\n",
       "    </tr>\n",
       "    <tr>\n",
       "      <th>41840</th>\n",
       "      <td>41840</td>\n",
       "      <td>SAXS_100k_Curve_Au_Ag/Ag/Cylindre/Ag_Cylinder_...</td>\n",
       "      <td>Ag2/Ag_D=99_nm_h=99_Cylindre_C=1772557449453_p...</td>\n",
       "      <td>ag</td>\n",
       "      <td>cylinder</td>\n",
       "      <td>99.0</td>\n",
       "      <td>99.0</td>\n",
       "    </tr>\n",
       "  </tbody>\n",
       "</table>\n",
       "<p>41841 rows × 7 columns</p>\n",
       "</div>"
      ],
      "text/plain": [
       "       Unnamed: 0                                          saxs_path  \\\n",
       "0               0  Base_de_donnee/Latex/Sphère/simulation/SAXS/La...   \n",
       "1               1  Base_de_donnee/Latex/Sphère/simulation/SAXS/La...   \n",
       "2               2  Base_de_donnee/Latex/Sphère/simulation/SAXS/La...   \n",
       "3               3  Base_de_donnee/Latex/Sphère/simulation/SAXS/La...   \n",
       "4               4  Base_de_donnee/Latex/Sphère/simulation/SAXS/La...   \n",
       "...           ...                                                ...   \n",
       "41836       41836  SAXS_100k_Curve_Au_Ag/Ag/Cylindre/Ag_Cylinder_...   \n",
       "41837       41837  SAXS_100k_Curve_Au_Ag/Ag/Cylindre/Ag_Cylinder_...   \n",
       "41838       41838  SAXS_100k_Curve_Au_Ag/Ag/Cylindre/Ag_Cylinder_...   \n",
       "41839       41839  SAXS_100k_Curve_Au_Ag/Ag/Cylindre/Ag_Cylinder_...   \n",
       "41840       41840  SAXS_100k_Curve_Au_Ag/Ag/Cylindre/Ag_Cylinder_...   \n",
       "\n",
       "                                                les_path material     shape  \\\n",
       "0      Latex2/Latex_D=152_nm_Sphere_C=1029976271434_p...    latex    sphere   \n",
       "1      Latex2/Latex_D=203_nm_Sphere_C=990463347078_pa...    latex    sphere   \n",
       "2      Latex2/Latex_D=22_nm_Sphere_C=1003728061438_pa...    latex    sphere   \n",
       "3      Latex2/Latex_D=300_nm_Sphere_C=1009726816834_p...    latex    sphere   \n",
       "4      Latex2/Latex_D=400_nm_Sphere_C=352908299309_pa...    latex    sphere   \n",
       "...                                                  ...      ...       ...   \n",
       "41836  Ag2/Ag_D=99_nm_h=99_Cylindre_C=1023565036280_p...       ag  cylinder   \n",
       "41837  Ag2/Ag_D=99_nm_h=99_Cylindre_C=1238964488130_p...       ag  cylinder   \n",
       "41838  Ag2/Ag_D=99_nm_h=99_Cylindre_C=1772557449453_p...       ag  cylinder   \n",
       "41839  Ag2/Ag_D=99_nm_h=99_Cylindre_C=619482244065_pa...       ag  cylinder   \n",
       "41840  Ag2/Ag_D=99_nm_h=99_Cylindre_C=1772557449453_p...       ag  cylinder   \n",
       "\n",
       "       dimension1  dimension2  \n",
       "0           152.0         NaN  \n",
       "1           203.0         NaN  \n",
       "2            22.0         NaN  \n",
       "3           300.0         NaN  \n",
       "4           400.0         NaN  \n",
       "...           ...         ...  \n",
       "41836        99.0        99.0  \n",
       "41837        99.0        99.0  \n",
       "41838        99.0        99.0  \n",
       "41839        99.0        99.0  \n",
       "41840        99.0        99.0  \n",
       "\n",
       "[41841 rows x 7 columns]"
      ]
     },
     "execution_count": 7,
     "metadata": {},
     "output_type": "execute_result"
    }
   ],
   "source": [
    "dataframe"
   ]
  },
  {
   "cell_type": "code",
   "execution_count": null,
   "metadata": {},
   "outputs": [],
   "source": []
  },
  {
   "cell_type": "code",
   "execution_count": 8,
   "metadata": {},
   "outputs": [],
   "source": [
    "# SAXS en log"
   ]
  },
  {
   "cell_type": "code",
   "execution_count": 9,
   "metadata": {},
   "outputs": [
    {
     "name": "stdout",
     "output_type": "stream",
     "text": [
      "Index(['Unnamed: 0', 'saxs_path', 'les_path', 'material', 'shape',\n",
      "       'dimension1', 'dimension2'],\n",
      "      dtype='object')\n",
      "   Unnamed: 0                                          saxs_path  \\\n",
      "0           0  Base_de_donnee/Latex/Sphère/simulation/SAXS/La...   \n",
      "1           1  Base_de_donnee/Latex/Sphère/simulation/SAXS/La...   \n",
      "2           2  Base_de_donnee/Latex/Sphère/simulation/SAXS/La...   \n",
      "3           3  Base_de_donnee/Latex/Sphère/simulation/SAXS/La...   \n",
      "4           4  Base_de_donnee/Latex/Sphère/simulation/SAXS/La...   \n",
      "\n",
      "                                            les_path material   shape  \\\n",
      "0  Latex2/Latex_D=152_nm_Sphere_C=1029976271434_p...    latex  sphere   \n",
      "1  Latex2/Latex_D=203_nm_Sphere_C=990463347078_pa...    latex  sphere   \n",
      "2  Latex2/Latex_D=22_nm_Sphere_C=1003728061438_pa...    latex  sphere   \n",
      "3  Latex2/Latex_D=300_nm_Sphere_C=1009726816834_p...    latex  sphere   \n",
      "4  Latex2/Latex_D=400_nm_Sphere_C=352908299309_pa...    latex  sphere   \n",
      "\n",
      "   dimension1  dimension2  \n",
      "0       152.0         NaN  \n",
      "1       203.0         NaN  \n",
      "2        22.0         NaN  \n",
      "3       300.0         NaN  \n",
      "4       400.0         NaN  \n",
      "{'material': {}, 'shape': {}}\n"
     ]
    },
    {
     "name": "stderr",
     "output_type": "stream",
     "text": [
      "Processing files: 100%|██████████| 41841/41841 [04:00<00:00, 174.27it/s]\n"
     ]
    },
    {
     "name": "stdout",
     "output_type": "stream",
     "text": [
      "Conversion terminée, dictionnaire sauvegardé : data/conversion_dict_all.json\n",
      "Nombre de fichiers valides 41841 sur 41841 fichiers au départ\n",
      "Conversion terminée, dictionnaire sauvegardé.\n",
      "Data successfully converted to data/pair_saxs_les_closest_of_concentration.h5\n"
     ]
    }
   ],
   "source": [
    "\n",
    "final_output_file = 'data/pair_saxs_les_closest_of_concentration.h5'\n",
    "json_output = 'data/conversion_dict_all.json'\n",
    "print(dataframe.columns)\n",
    "print(dataframe.head())\n",
    "converter = PairTextToHDF5Converter(dataframe=dataframe, pad_size=500,\n",
    "                                    data_dir=data_dir, output_dir='./', \n",
    "                                    final_output_file=final_output_file, \n",
    "                                    json_output=json_output)\n",
    "converter.convert()\n",
    "print(f\"Data successfully converted to {final_output_file}\")\n"
   ]
  },
  {
   "cell_type": "code",
   "execution_count": null,
   "metadata": {},
   "outputs": [],
   "source": []
  }
 ],
 "metadata": {
  "kernelspec": {
   "display_name": "Python 3 (ipykernel)",
   "language": "python",
   "name": "python3"
  },
  "language_info": {
   "codemirror_mode": {
    "name": "ipython",
    "version": 3
   },
   "file_extension": ".py",
   "mimetype": "text/x-python",
   "name": "python",
   "nbconvert_exporter": "python",
   "pygments_lexer": "ipython3",
   "version": "3.10.12"
  }
 },
 "nbformat": 4,
 "nbformat_minor": 4
}
