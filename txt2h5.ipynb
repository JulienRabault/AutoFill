{
 "cells": [
  {
   "cell_type": "code",
   "execution_count": 17,
   "metadata": {},
   "outputs": [],
   "source": [
    "import pandas as pd\n",
    "from dataset.converter.txtTOhdf5 import TextToHDF5Converter\n",
    "import os\n"
   ]
  },
  {
   "cell_type": "markdown",
   "metadata": {},
   "source": [
    "# Set up - change path as you like"
   ]
  },
  {
   "cell_type": "code",
   "execution_count": 18,
   "metadata": {},
   "outputs": [],
   "source": [
    "# chemin du h5 final\n",
    "final_output_file = 'data_vae_saxs.h5'\n",
    "# chemin du json final - utilisé pour convertir saxs metadata str-int\n",
    "json_output = 'conversion_dict_vae_saxs.json'"
   ]
  },
  {
   "cell_type": "markdown",
   "metadata": {},
   "source": [
    "# Load data"
   ]
  },
  {
   "cell_type": "code",
   "execution_count": 24,
   "metadata": {},
   "outputs": [],
   "source": [
    "data_csv_path = \"/projects/pnria/DATA/AUTOFILL/v2/all_data_saxs_v2.csv\"\n",
    "\n",
    "if not os.path.exists(data_csv_path):\n",
    "    raise FileNotFoundError(f\"CSV file not found: {data_csv_path}\")\n",
    "\n",
    "# Chemin vers saxs données txt\n",
    "data_dir = '/projects/pnria/DATA/AUTOFILL/' "
   ]
  },
  {
   "cell_type": "code",
   "execution_count": 25,
   "metadata": {},
   "outputs": [],
   "source": [
    "# attention au séparateur de données, parfois , parfois ;\n",
    "sep = ','\n",
    "dataframe = pd.read_csv(data_csv_path, sep=sep)"
   ]
  },
  {
   "cell_type": "code",
   "execution_count": 26,
   "metadata": {},
   "outputs": [],
   "source": [
    "dataframe['path'] = dataframe['path'].apply(lambda chemin: chemin.replace(\"SIO22\", \"SiO22\"))"
   ]
  },
  {
   "cell_type": "code",
   "execution_count": 27,
   "metadata": {},
   "outputs": [
    {
     "data": {
      "text/html": [
       "<div>\n",
       "<style scoped>\n",
       "    .dataframe tbody tr th:only-of-type {\n",
       "        vertical-align: middle;\n",
       "    }\n",
       "\n",
       "    .dataframe tbody tr th {\n",
       "        vertical-align: top;\n",
       "    }\n",
       "\n",
       "    .dataframe thead th {\n",
       "        text-align: right;\n",
       "    }\n",
       "</style>\n",
       "<table border=\"1\" class=\"dataframe\">\n",
       "  <thead>\n",
       "    <tr style=\"text-align: right;\">\n",
       "      <th></th>\n",
       "      <th>path</th>\n",
       "      <th>material</th>\n",
       "      <th>type</th>\n",
       "      <th>method</th>\n",
       "      <th>shape</th>\n",
       "      <th>researcher</th>\n",
       "      <th>concentration</th>\n",
       "      <th>technique</th>\n",
       "      <th>opticalPathLength</th>\n",
       "      <th>date</th>\n",
       "      <th>d</th>\n",
       "      <th>h</th>\n",
       "      <th>pair_index</th>\n",
       "    </tr>\n",
       "  </thead>\n",
       "  <tbody>\n",
       "    <tr>\n",
       "      <th>0</th>\n",
       "      <td>SAXS_100k_Curve_Au_Ag/Ag/Cylindre/Ag_Cylinder_...</td>\n",
       "      <td>ag</td>\n",
       "      <td>simulation</td>\n",
       "      <td>pysaxs</td>\n",
       "      <td>cylinder</td>\n",
       "      <td>NaN</td>\n",
       "      <td>2.730000e+12</td>\n",
       "      <td>saxs</td>\n",
       "      <td>NaN</td>\n",
       "      <td>2025-03-03 09:07:02</td>\n",
       "      <td>1.0</td>\n",
       "      <td>1.0</td>\n",
       "      <td>NaN</td>\n",
       "    </tr>\n",
       "    <tr>\n",
       "      <th>1</th>\n",
       "      <td>SAXS_100k_Curve_Au_Ag/Ag/Cylindre/Ag_Cylinder_...</td>\n",
       "      <td>ag</td>\n",
       "      <td>simulation</td>\n",
       "      <td>pysaxs</td>\n",
       "      <td>cylinder</td>\n",
       "      <td>NaN</td>\n",
       "      <td>3.420000e+12</td>\n",
       "      <td>saxs</td>\n",
       "      <td>NaN</td>\n",
       "      <td>2025-03-03 09:07:02</td>\n",
       "      <td>1.0</td>\n",
       "      <td>1.0</td>\n",
       "      <td>NaN</td>\n",
       "    </tr>\n",
       "    <tr>\n",
       "      <th>2</th>\n",
       "      <td>SAXS_100k_Curve_Au_Ag/Ag/Cylindre/Ag_Cylinder_...</td>\n",
       "      <td>ag</td>\n",
       "      <td>simulation</td>\n",
       "      <td>pysaxs</td>\n",
       "      <td>cylinder</td>\n",
       "      <td>NaN</td>\n",
       "      <td>3.750000e+12</td>\n",
       "      <td>saxs</td>\n",
       "      <td>NaN</td>\n",
       "      <td>2025-03-03 09:07:02</td>\n",
       "      <td>1.0</td>\n",
       "      <td>1.0</td>\n",
       "      <td>NaN</td>\n",
       "    </tr>\n",
       "    <tr>\n",
       "      <th>3</th>\n",
       "      <td>SAXS_100k_Curve_Au_Ag/Ag/Cylindre/Ag_Cylinder_...</td>\n",
       "      <td>ag</td>\n",
       "      <td>simulation</td>\n",
       "      <td>pysaxs</td>\n",
       "      <td>cylinder</td>\n",
       "      <td>NaN</td>\n",
       "      <td>5.370000e+12</td>\n",
       "      <td>saxs</td>\n",
       "      <td>NaN</td>\n",
       "      <td>2025-03-03 09:07:02</td>\n",
       "      <td>1.0</td>\n",
       "      <td>1.0</td>\n",
       "      <td>NaN</td>\n",
       "    </tr>\n",
       "    <tr>\n",
       "      <th>4</th>\n",
       "      <td>SAXS_100k_Curve_Au_Ag/Ag/Cylindre/Ag_Cylinder_...</td>\n",
       "      <td>ag</td>\n",
       "      <td>simulation</td>\n",
       "      <td>pysaxs</td>\n",
       "      <td>cylinder</td>\n",
       "      <td>NaN</td>\n",
       "      <td>8.730000e+12</td>\n",
       "      <td>saxs</td>\n",
       "      <td>NaN</td>\n",
       "      <td>2025-03-03 09:07:02</td>\n",
       "      <td>1.0</td>\n",
       "      <td>1.0</td>\n",
       "      <td>NaN</td>\n",
       "    </tr>\n",
       "    <tr>\n",
       "      <th>...</th>\n",
       "      <td>...</td>\n",
       "      <td>...</td>\n",
       "      <td>...</td>\n",
       "      <td>...</td>\n",
       "      <td>...</td>\n",
       "      <td>...</td>\n",
       "      <td>...</td>\n",
       "      <td>...</td>\n",
       "      <td>...</td>\n",
       "      <td>...</td>\n",
       "      <td>...</td>\n",
       "      <td>...</td>\n",
       "      <td>...</td>\n",
       "    </tr>\n",
       "    <tr>\n",
       "      <th>106286</th>\n",
       "      <td>Base_de_donnee/SiO2/Sphère/Simulation/D=20-500...</td>\n",
       "      <td>sio2</td>\n",
       "      <td>simulation</td>\n",
       "      <td>pysaxs</td>\n",
       "      <td>sphere</td>\n",
       "      <td>NaN</td>\n",
       "      <td>1.000000e+12</td>\n",
       "      <td>saxs</td>\n",
       "      <td>NaN</td>\n",
       "      <td>2024-10-12 10:39:42</td>\n",
       "      <td>-1.0</td>\n",
       "      <td>-1.0</td>\n",
       "      <td>NaN</td>\n",
       "    </tr>\n",
       "    <tr>\n",
       "      <th>106287</th>\n",
       "      <td>Base_de_donnee/SiO2/Sphère/Simulation/D=20-500...</td>\n",
       "      <td>sio2</td>\n",
       "      <td>simulation</td>\n",
       "      <td>pysaxs</td>\n",
       "      <td>sphere</td>\n",
       "      <td>NaN</td>\n",
       "      <td>1.000000e+12</td>\n",
       "      <td>saxs</td>\n",
       "      <td>NaN</td>\n",
       "      <td>2024-10-12 10:39:44</td>\n",
       "      <td>-1.0</td>\n",
       "      <td>-1.0</td>\n",
       "      <td>NaN</td>\n",
       "    </tr>\n",
       "    <tr>\n",
       "      <th>106288</th>\n",
       "      <td>Base_de_donnee/SiO2/Sphère/Simulation/D=20-500...</td>\n",
       "      <td>sio2</td>\n",
       "      <td>simulation</td>\n",
       "      <td>pysaxs</td>\n",
       "      <td>sphere</td>\n",
       "      <td>NaN</td>\n",
       "      <td>1.000000e+12</td>\n",
       "      <td>saxs</td>\n",
       "      <td>NaN</td>\n",
       "      <td>2024-10-12 10:39:44</td>\n",
       "      <td>-1.0</td>\n",
       "      <td>-1.0</td>\n",
       "      <td>NaN</td>\n",
       "    </tr>\n",
       "    <tr>\n",
       "      <th>106289</th>\n",
       "      <td>Base_de_donnee/SiO2/Sphère/Simulation/D=20-500...</td>\n",
       "      <td>sio2</td>\n",
       "      <td>simulation</td>\n",
       "      <td>pysaxs</td>\n",
       "      <td>sphere</td>\n",
       "      <td>NaN</td>\n",
       "      <td>1.000000e+12</td>\n",
       "      <td>saxs</td>\n",
       "      <td>NaN</td>\n",
       "      <td>2024-10-12 10:39:42</td>\n",
       "      <td>-1.0</td>\n",
       "      <td>-1.0</td>\n",
       "      <td>NaN</td>\n",
       "    </tr>\n",
       "    <tr>\n",
       "      <th>106290</th>\n",
       "      <td>Base_de_donnee/SiO2/Sphère/Simulation/D=20-500...</td>\n",
       "      <td>sio2</td>\n",
       "      <td>simulation</td>\n",
       "      <td>pysaxs</td>\n",
       "      <td>sphere</td>\n",
       "      <td>NaN</td>\n",
       "      <td>1.000000e+12</td>\n",
       "      <td>saxs</td>\n",
       "      <td>NaN</td>\n",
       "      <td>2024-10-12 10:39:44</td>\n",
       "      <td>-1.0</td>\n",
       "      <td>-1.0</td>\n",
       "      <td>NaN</td>\n",
       "    </tr>\n",
       "  </tbody>\n",
       "</table>\n",
       "<p>106291 rows × 13 columns</p>\n",
       "</div>"
      ],
      "text/plain": [
       "                                                     path material  \\\n",
       "0       SAXS_100k_Curve_Au_Ag/Ag/Cylindre/Ag_Cylinder_...       ag   \n",
       "1       SAXS_100k_Curve_Au_Ag/Ag/Cylindre/Ag_Cylinder_...       ag   \n",
       "2       SAXS_100k_Curve_Au_Ag/Ag/Cylindre/Ag_Cylinder_...       ag   \n",
       "3       SAXS_100k_Curve_Au_Ag/Ag/Cylindre/Ag_Cylinder_...       ag   \n",
       "4       SAXS_100k_Curve_Au_Ag/Ag/Cylindre/Ag_Cylinder_...       ag   \n",
       "...                                                   ...      ...   \n",
       "106286  Base_de_donnee/SiO2/Sphère/Simulation/D=20-500...     sio2   \n",
       "106287  Base_de_donnee/SiO2/Sphère/Simulation/D=20-500...     sio2   \n",
       "106288  Base_de_donnee/SiO2/Sphère/Simulation/D=20-500...     sio2   \n",
       "106289  Base_de_donnee/SiO2/Sphère/Simulation/D=20-500...     sio2   \n",
       "106290  Base_de_donnee/SiO2/Sphère/Simulation/D=20-500...     sio2   \n",
       "\n",
       "              type  method     shape  researcher  concentration technique  \\\n",
       "0       simulation  pysaxs  cylinder         NaN   2.730000e+12      saxs   \n",
       "1       simulation  pysaxs  cylinder         NaN   3.420000e+12      saxs   \n",
       "2       simulation  pysaxs  cylinder         NaN   3.750000e+12      saxs   \n",
       "3       simulation  pysaxs  cylinder         NaN   5.370000e+12      saxs   \n",
       "4       simulation  pysaxs  cylinder         NaN   8.730000e+12      saxs   \n",
       "...            ...     ...       ...         ...            ...       ...   \n",
       "106286  simulation  pysaxs    sphere         NaN   1.000000e+12      saxs   \n",
       "106287  simulation  pysaxs    sphere         NaN   1.000000e+12      saxs   \n",
       "106288  simulation  pysaxs    sphere         NaN   1.000000e+12      saxs   \n",
       "106289  simulation  pysaxs    sphere         NaN   1.000000e+12      saxs   \n",
       "106290  simulation  pysaxs    sphere         NaN   1.000000e+12      saxs   \n",
       "\n",
       "        opticalPathLength                 date    d    h  pair_index  \n",
       "0                     NaN  2025-03-03 09:07:02  1.0  1.0         NaN  \n",
       "1                     NaN  2025-03-03 09:07:02  1.0  1.0         NaN  \n",
       "2                     NaN  2025-03-03 09:07:02  1.0  1.0         NaN  \n",
       "3                     NaN  2025-03-03 09:07:02  1.0  1.0         NaN  \n",
       "4                     NaN  2025-03-03 09:07:02  1.0  1.0         NaN  \n",
       "...                   ...                  ...  ...  ...         ...  \n",
       "106286                NaN  2024-10-12 10:39:42 -1.0 -1.0         NaN  \n",
       "106287                NaN  2024-10-12 10:39:44 -1.0 -1.0         NaN  \n",
       "106288                NaN  2024-10-12 10:39:44 -1.0 -1.0         NaN  \n",
       "106289                NaN  2024-10-12 10:39:42 -1.0 -1.0         NaN  \n",
       "106290                NaN  2024-10-12 10:39:44 -1.0 -1.0         NaN  \n",
       "\n",
       "[106291 rows x 13 columns]"
      ]
     },
     "execution_count": 27,
     "metadata": {},
     "output_type": "execute_result"
    }
   ],
   "source": [
    "dataframe\n"
   ]
  },
  {
   "cell_type": "code",
   "execution_count": 28,
   "metadata": {},
   "outputs": [
    {
     "data": {
      "text/plain": [
       "array([  1.,  10., 100.,  11.,  12.,  13.,  14.,  15.,  16.,  17.,  18.,\n",
       "        19.,   2.,  20.,  21.,  22.,  23.,  24.,  25.,  26.,  27.,  28.,\n",
       "        29.,   3.,  30.,  31.,  32.,  33.,  34.,  35.,  36.,  37.,  38.,\n",
       "        39.,   4.,  40.,  41.,  42.,  43.,  44.,  45.,  46.,  47.,  48.,\n",
       "        49.,   5.,  50.,  51.,  52.,  53.,  54.,  55.,  56.,  57.,  58.,\n",
       "        59.,   6.,  60.,  61.,  62.,  63.,  64.,  65.,  66.,  67.,  68.,\n",
       "        69.,   7.,  70.,  71.,  72.,  73.,  74.,  75.,  76.,  77.,  78.,\n",
       "        79.,   8.,  80.,  81.,  82.,  83.,  84.,  85.,  86.,  87.,  88.,\n",
       "        89.,   9.,  90.,  91.,  92.,  93.,  94.,  95.,  96.,  97.,  98.,\n",
       "        99.,  nan,  -1.])"
      ]
     },
     "execution_count": 28,
     "metadata": {},
     "output_type": "execute_result"
    }
   ],
   "source": [
    "dataframe[\"d\"].unique()"
   ]
  },
  {
   "cell_type": "markdown",
   "metadata": {},
   "source": [
    "# Format"
   ]
  },
  {
   "cell_type": "code",
   "execution_count": 31,
   "metadata": {},
   "outputs": [],
   "source": [
    "sample_dataframe = dataframe.sample(1500)"
   ]
  },
  {
   "cell_type": "code",
   "execution_count": 32,
   "metadata": {},
   "outputs": [
    {
     "name": "stdout",
     "output_type": "stream",
     "text": [
      "{'material': {}, 'type': {}, 'method': {}, 'shape': {}, 'technique': {}}\n"
     ]
    },
    {
     "name": "stderr",
     "output_type": "stream",
     "text": [
      "Processing files:   3%|▎         | 48/1500 [00:00<00:03, 478.30it/s]"
     ]
    },
    {
     "name": "stdout",
     "output_type": "stream",
     "text": [
      "501\n",
      "501\n",
      "501\n"
     ]
    },
    {
     "name": "stderr",
     "output_type": "stream",
     "text": [
      "Processing files:   6%|▋         | 96/1500 [00:00<00:03, 450.81it/s]"
     ]
    },
    {
     "name": "stdout",
     "output_type": "stream",
     "text": [
      "501\n",
      "501\n",
      "501\n",
      "501\n"
     ]
    },
    {
     "name": "stderr",
     "output_type": "stream",
     "text": [
      "Processing files:   9%|▉         | 142/1500 [00:00<00:02, 454.62it/s]"
     ]
    },
    {
     "name": "stdout",
     "output_type": "stream",
     "text": [
      "501\n",
      "501\n",
      "501\n",
      "501\n"
     ]
    },
    {
     "name": "stderr",
     "output_type": "stream",
     "text": [
      "Processing files:  13%|█▎        | 188/1500 [00:00<00:02, 444.74it/s]"
     ]
    },
    {
     "name": "stdout",
     "output_type": "stream",
     "text": [
      "501\n",
      "501\n",
      "501\n",
      "501\n",
      "501\n"
     ]
    },
    {
     "name": "stderr",
     "output_type": "stream",
     "text": [
      "Processing files:  16%|█▌        | 233/1500 [00:00<00:02, 438.72it/s]"
     ]
    },
    {
     "name": "stdout",
     "output_type": "stream",
     "text": [
      "501\n",
      "501\n",
      "501\n",
      "501\n"
     ]
    },
    {
     "name": "stderr",
     "output_type": "stream",
     "text": [
      "Processing files:  21%|██▏       | 322/1500 [00:00<00:02, 434.99it/s]"
     ]
    },
    {
     "name": "stdout",
     "output_type": "stream",
     "text": [
      "501\n",
      "501\n"
     ]
    },
    {
     "name": "stderr",
     "output_type": "stream",
     "text": [
      "Processing files:  24%|██▍       | 367/1500 [00:00<00:02, 438.53it/s]"
     ]
    },
    {
     "name": "stdout",
     "output_type": "stream",
     "text": [
      "501\n",
      "501\n",
      "501\n",
      "501\n",
      "501\n"
     ]
    },
    {
     "name": "stderr",
     "output_type": "stream",
     "text": [
      "Processing files:  31%|███       | 459/1500 [00:01<00:02, 446.44it/s]"
     ]
    },
    {
     "name": "stdout",
     "output_type": "stream",
     "text": [
      "501\n"
     ]
    },
    {
     "name": "stderr",
     "output_type": "stream",
     "text": [
      "Processing files:  34%|███▎      | 504/1500 [00:01<00:02, 447.12it/s]"
     ]
    },
    {
     "name": "stdout",
     "output_type": "stream",
     "text": [
      "501\n",
      "501\n",
      "501\n"
     ]
    },
    {
     "name": "stderr",
     "output_type": "stream",
     "text": [
      "Processing files:  43%|████▎     | 640/1500 [00:01<00:01, 443.82it/s]"
     ]
    },
    {
     "name": "stdout",
     "output_type": "stream",
     "text": [
      "501\n",
      "501\n",
      "501\n",
      "501\n",
      "501\n",
      "501\n"
     ]
    },
    {
     "name": "stderr",
     "output_type": "stream",
     "text": [
      "Processing files:  49%|████▊     | 731/1500 [00:01<00:01, 440.25it/s]"
     ]
    },
    {
     "name": "stdout",
     "output_type": "stream",
     "text": [
      "501\n",
      "501\n",
      "501\n",
      "501\n",
      "501\n",
      "501\n"
     ]
    },
    {
     "name": "stderr",
     "output_type": "stream",
     "text": [
      "Processing files:  58%|█████▊    | 864/1500 [00:01<00:01, 414.51it/s]"
     ]
    },
    {
     "name": "stdout",
     "output_type": "stream",
     "text": [
      "501\n",
      "501\n",
      "501\n",
      "501\n",
      "501\n",
      "501\n",
      "501\n",
      "501\n"
     ]
    },
    {
     "name": "stderr",
     "output_type": "stream",
     "text": [
      "Processing files:  63%|██████▎   | 950/1500 [00:02<00:01, 420.47it/s]"
     ]
    },
    {
     "name": "stdout",
     "output_type": "stream",
     "text": [
      "501\n",
      "501\n",
      "501\n",
      "501\n",
      "501\n",
      "501\n"
     ]
    },
    {
     "name": "stderr",
     "output_type": "stream",
     "text": [
      "Processing files:  69%|██████▉   | 1041/1500 [00:02<00:01, 434.69it/s]"
     ]
    },
    {
     "name": "stdout",
     "output_type": "stream",
     "text": [
      "501\n",
      "501\n",
      "501\n",
      "501\n",
      "501\n",
      "501\n",
      "501\n"
     ]
    },
    {
     "name": "stderr",
     "output_type": "stream",
     "text": [
      "Processing files:  76%|███████▌  | 1137/1500 [00:02<00:00, 452.89it/s]"
     ]
    },
    {
     "name": "stdout",
     "output_type": "stream",
     "text": [
      "501\n",
      "501\n",
      "501\n",
      "501\n"
     ]
    },
    {
     "name": "stderr",
     "output_type": "stream",
     "text": [
      "Processing files:  82%|████████▏ | 1229/1500 [00:02<00:00, 454.43it/s]"
     ]
    },
    {
     "name": "stdout",
     "output_type": "stream",
     "text": [
      "501\n",
      "501\n",
      "501\n",
      "501\n"
     ]
    },
    {
     "name": "stderr",
     "output_type": "stream",
     "text": [
      "Processing files:  88%|████████▊ | 1322/1500 [00:02<00:00, 450.74it/s]"
     ]
    },
    {
     "name": "stdout",
     "output_type": "stream",
     "text": [
      "501\n",
      "501\n",
      "501\n",
      "501\n",
      "501\n"
     ]
    },
    {
     "name": "stderr",
     "output_type": "stream",
     "text": [
      "Processing files:  94%|█████████▍| 1413/1500 [00:03<00:00, 440.59it/s]"
     ]
    },
    {
     "name": "stdout",
     "output_type": "stream",
     "text": [
      "501\n",
      "501\n",
      "501\n",
      "501\n",
      "501\n",
      "501\n",
      "501\n",
      "501\n"
     ]
    },
    {
     "name": "stderr",
     "output_type": "stream",
     "text": [
      "Processing files: 100%|██████████| 1500/1500 [00:03<00:00, 440.02it/s]"
     ]
    },
    {
     "name": "stdout",
     "output_type": "stream",
     "text": [
      "501\n",
      "501\n",
      "501\n"
     ]
    },
    {
     "name": "stderr",
     "output_type": "stream",
     "text": [
      "\n"
     ]
    },
    {
     "name": "stdout",
     "output_type": "stream",
     "text": [
      "Conversion terminée, dictionnaire sauvegardé : conversion_dict_vae_saxs.json\n",
      "Conversion terminée, dictionnaire sauvegardé.\n",
      "Data successfully converted to data_vae_saxs.h5\n"
     ]
    }
   ],
   "source": [
    "converter = TextToHDF5Converter(dataframe=sample_dataframe, pad_size=500,\n",
    "                                data_dir=data_dir, output_dir='./', \n",
    "                                final_output_file=final_output_file, \n",
    "                                json_output=json_output)\n",
    "converter.convert()\n",
    "print(f\"Data successfully converted to {final_output_file}\")\n"
   ]
  },
  {
   "cell_type": "code",
   "execution_count": null,
   "metadata": {},
   "outputs": [],
   "source": []
  }
 ],
 "metadata": {
  "kernelspec": {
   "display_name": "Python 3 (ipykernel)",
   "language": "python",
   "name": "python3"
  },
  "language_info": {
   "codemirror_mode": {
    "name": "ipython",
    "version": 3
   },
   "file_extension": ".py",
   "mimetype": "text/x-python",
   "name": "python",
   "nbconvert_exporter": "python",
   "pygments_lexer": "ipython3",
   "version": "3.10.12"
  }
 },
 "nbformat": 4,
 "nbformat_minor": 4
}
