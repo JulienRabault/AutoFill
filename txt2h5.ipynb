{
 "cells": [
  {
   "cell_type": "code",
   "execution_count": 2,
   "metadata": {},
   "outputs": [],
   "source": [
    "import pandas as pd\n",
    "from dataset.converter.txtTOhdf5 import TextToHDF5Converter\n",
    "import os\n"
   ]
  },
  {
   "cell_type": "markdown",
   "metadata": {},
   "source": [
    "# Set up - change path as you like"
   ]
  },
  {
   "cell_type": "code",
   "execution_count": 3,
   "metadata": {},
   "outputs": [],
   "source": [
    "# chemin du h5 final\n",
    "final_output_file = 'data_vae.h5'\n",
    "# chemin du json final - utilisé pour convertir les metadata str-int\n",
    "json_output = 'conversion_dict_all_vae.json'"
   ]
  },
  {
   "cell_type": "markdown",
   "metadata": {},
   "source": [
    "# Load data"
   ]
  },
  {
   "cell_type": "code",
   "execution_count": 4,
   "metadata": {},
   "outputs": [],
   "source": [
    "data_csv_path = \"/projects/pnria/DATA/AUTOFILL/all_data.csv\"\n",
    "\n",
    "if not os.path.exists(data_csv_path):\n",
    "    raise FileNotFoundError(f\"CSV file not found: {data_csv_path}\")\n",
    "\n",
    "# Chemin vers les données txt\n",
    "data_dir = '/projects/pnria/DATA/AUTOFILL/' "
   ]
  },
  {
   "cell_type": "code",
   "execution_count": 5,
   "metadata": {},
   "outputs": [
    {
     "name": "stderr",
     "output_type": "stream",
     "text": [
      "/tmp/ipykernel_2280735/2585989716.py:3: DtypeWarning: Columns (3) have mixed types. Specify dtype option on import or set low_memory=False.\n",
      "  dataframe = pd.read_csv(data_csv_path, sep=sep)\n"
     ]
    }
   ],
   "source": [
    "# attention au séparateur de données, parfois , parfois ;\n",
    "sep = ','\n",
    "dataframe = pd.read_csv(data_csv_path, sep=sep)"
   ]
  },
  {
   "cell_type": "code",
   "execution_count": null,
   "metadata": {},
   "outputs": [],
   "source": []
  },
  {
   "cell_type": "markdown",
   "metadata": {},
   "source": [
    "# Format"
   ]
  },
  {
   "cell_type": "code",
   "execution_count": null,
   "metadata": {},
   "outputs": [],
   "source": [
    "converter = TextToHDF5Converter(dataframe=dataframe, pad_size=90,\n",
    "                                data_dir=data_dir, output_dir='./', \n",
    "                                final_output_file=final_output_file, \n",
    "                                json_output=json_output)\n",
    "converter.convert()\n",
    "print(f\"Data successfully converted to {final_output_file}\")\n"
   ]
  },
  {
   "cell_type": "code",
   "execution_count": null,
   "metadata": {},
   "outputs": [],
   "source": []
  }
 ],
 "metadata": {
  "kernelspec": {
   "display_name": "Python 3 (ipykernel)",
   "language": "python",
   "name": "python3"
  },
  "language_info": {
   "codemirror_mode": {
    "name": "ipython",
    "version": 3
   },
   "file_extension": ".py",
   "mimetype": "text/x-python",
   "name": "python",
   "nbconvert_exporter": "python",
   "pygments_lexer": "ipython3",
   "version": "3.10.12"
  }
 },
 "nbformat": 4,
 "nbformat_minor": 4
}
