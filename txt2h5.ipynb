{
 "cells": [
  {
   "cell_type": "code",
   "execution_count": null,
   "metadata": {},
   "outputs": [],
   "source": [
    "import pandas as pd\n",
    "from dataset.converter.txtTOhdf5 import TextToHDF5Converter\n",
    "import os\n"
   ]
  },
  {
   "cell_type": "markdown",
   "metadata": {},
   "source": [
    "# Load data"
   ]
  },
  {
   "cell_type": "code",
   "execution_count": null,
   "metadata": {},
   "outputs": [],
   "source": [
    "# Chemin vers métadonnées\n",
    "data_csv_path = \"/projects/pnria/DATA/AUTOFILL/all_data.csv\"\n",
    "if not os.path.exists(data_csv_path):\n",
    "    raise FileNotFoundError(f\"CSV file not found: {data_csv_path}\")\n",
    "\n",
    "# Chemin vers les données txt\n",
    "data_dir = '/projects/pnria/DATA/AUTOFILL/' "
   ]
  },
  {
   "cell_type": "code",
   "execution_count": null,
   "metadata": {},
   "outputs": [],
   "source": [
    "# attention au séparateur de données, parfois \",\" parfois \";\"\n",
    "sep = ','\n",
    "dataframe = pd.read_csv(data_csv_path, sep=sep)"
   ]
  },
  {
   "cell_type": "markdown",
   "metadata": {},
   "source": [
    "# Params"
   ]
  },
  {
   "cell_type": "code",
   "execution_count": 2,
   "metadata": {},
   "outputs": [],
   "source": [
    "pad_size=90"
   ]
  },
  {
   "cell_type": "code",
   "execution_count": 3,
   "metadata": {},
   "outputs": [],
   "source": [
    "# Chemin du h5 final\n",
    "final_output_file = 'data_vae.h5'\n",
    "# Chemin du json final - utilisé pour convertir les métadonnées str-int\n",
    "json_output = 'conversion_dict_all_vae.json'"
   ]
  },
  {
   "cell_type": "markdown",
   "metadata": {},
   "source": [
    "# Format"
   ]
  },
  {
   "cell_type": "code",
   "execution_count": null,
   "metadata": {},
   "outputs": [],
   "source": [
    "converter = TextToHDF5Converter(dataframe=dataframe, \n",
    "                                pad_size=pad_size,\n",
    "                                data_dir=data_dir, \n",
    "                                output_dir='./', \n",
    "                                final_output_file=final_output_file, \n",
    "                                json_output=json_output)\n",
    "converter.convert()\n",
    "print(f\"Data successfully converted to {final_output_file}\")\n"
   ]
  }
 ],
 "metadata": {
  "kernelspec": {
   "display_name": "venv",
   "language": "python",
   "name": "python3"
  },
  "language_info": {
   "codemirror_mode": {
    "name": "ipython",
    "version": 3
   },
   "file_extension": ".py",
   "mimetype": "text/x-python",
   "name": "python",
   "nbconvert_exporter": "python",
   "pygments_lexer": "ipython3",
   "version": "3.10.12"
  }
 },
 "nbformat": 4,
 "nbformat_minor": 4
}
