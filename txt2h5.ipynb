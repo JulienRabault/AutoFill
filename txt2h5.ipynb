{
 "cells": [
  {
   "cell_type": "code",
   "metadata": {
    "ExecuteTime": {
     "end_time": "2025-05-05T12:36:29.944775Z",
     "start_time": "2025-05-05T12:36:29.940239Z"
    }
   },
   "source": [
    "import pandas as pd\n",
    "from dataset.converter.txtTOhdf5 import TextToHDF5Converter\n",
    "import os\n"
   ],
   "outputs": [],
   "execution_count": 3
  },
  {
   "cell_type": "markdown",
   "metadata": {},
   "source": ""
  },
  {
   "cell_type": "code",
   "metadata": {
    "ExecuteTime": {
     "end_time": "2025-05-05T12:36:30.034872Z",
     "start_time": "2025-05-05T12:36:29.996622Z"
    }
   },
   "source": [
    "# Chemin vers métadonnées\n",
    "data_csv_path = \"/projects/pnria/DATA/AUTOFILL/all_data.csv\"\n",
    "if not os.path.exists(data_csv_path):\n",
    "    raise FileNotFoundError(f\"CSV file not found: {data_csv_path}\")\n",
    "\n",
    "# Chemin vers les données txt\n",
    "data_dir = '/projects/pnria/DATA/AUTOFILL/' "
   ],
   "outputs": [
    {
     "ename": "FileNotFoundError",
     "evalue": "CSV file not found: /projects/pnria/DATA/AUTOFILL/all_data.csv",
     "output_type": "error",
     "traceback": [
      "\u001B[0;31m---------------------------------------------------------------------------\u001B[0m",
      "\u001B[0;31mFileNotFoundError\u001B[0m                         Traceback (most recent call last)",
      "Cell \u001B[0;32mIn[4], line 4\u001B[0m\n\u001B[1;32m      2\u001B[0m data_csv_path \u001B[38;5;241m=\u001B[39m \u001B[38;5;124m\"\u001B[39m\u001B[38;5;124m/projects/pnria/DATA/AUTOFILL/all_data.csv\u001B[39m\u001B[38;5;124m\"\u001B[39m\n\u001B[1;32m      3\u001B[0m \u001B[38;5;28;01mif\u001B[39;00m \u001B[38;5;129;01mnot\u001B[39;00m os\u001B[38;5;241m.\u001B[39mpath\u001B[38;5;241m.\u001B[39mexists(data_csv_path):\n\u001B[0;32m----> 4\u001B[0m     \u001B[38;5;28;01mraise\u001B[39;00m \u001B[38;5;167;01mFileNotFoundError\u001B[39;00m(\u001B[38;5;124mf\u001B[39m\u001B[38;5;124m\"\u001B[39m\u001B[38;5;124mCSV file not found: \u001B[39m\u001B[38;5;132;01m{\u001B[39;00mdata_csv_path\u001B[38;5;132;01m}\u001B[39;00m\u001B[38;5;124m\"\u001B[39m)\n\u001B[1;32m      6\u001B[0m \u001B[38;5;66;03m# Chemin vers les données txt\u001B[39;00m\n\u001B[1;32m      7\u001B[0m data_dir \u001B[38;5;241m=\u001B[39m \u001B[38;5;124m'\u001B[39m\u001B[38;5;124m/projects/pnria/DATA/AUTOFILL/\u001B[39m\u001B[38;5;124m'\u001B[39m\n",
      "\u001B[0;31mFileNotFoundError\u001B[0m: CSV file not found: /projects/pnria/DATA/AUTOFILL/all_data.csv"
     ]
    }
   ],
   "execution_count": 4
  },
  {
   "cell_type": "code",
   "execution_count": null,
   "metadata": {},
   "outputs": [],
   "source": [
    "# attention au séparateur de données, parfois \",\" parfois \";\"\n",
    "sep = ','\n",
    "dataframe = pd.read_csv(data_csv_path, sep=sep)"
   ]
  },
  {
   "cell_type": "markdown",
   "metadata": {},
   "source": [
    "# Params\n",
    "\n",
    "\n"
   ]
  },
  {
   "cell_type": "code",
   "execution_count": 2,
   "metadata": {},
   "outputs": [],
   "source": [
    "pad_size=90"
   ]
  },
  {
   "cell_type": "code",
   "execution_count": 3,
   "metadata": {},
   "outputs": [],
   "source": [
    "# Chemin du h5 final\n",
    "final_output_file = 'data_vae.h5'\n",
    "json_output = 'conversion_dict_all_vae.json'"
   ]
  },
  {
   "cell_type": "markdown",
   "metadata": {},
   "source": [
    "# Format"
   ]
  },
  {
   "cell_type": "code",
   "execution_count": null,
   "metadata": {},
   "outputs": [],
   "source": [
    "converter = TextToHDF5Converter(dataframe=dataframe, \n",
    "                                pad_size=pad_size,\n",
    "                                data_dir=data_dir, \n",
    "                                output_dir='./', \n",
    "                                final_output_file=final_output_file, \n",
    "                                json_output=json_output)\n",
    "converter.convert()\n",
    "print(f\"Data successfully converted to {final_output_file}\")\n"
   ]
  }
 ],
 "metadata": {
  "kernelspec": {
   "display_name": "venv",
   "language": "python",
   "name": "python3"
  },
  "language_info": {
   "codemirror_mode": {
    "name": "ipython",
    "version": 3
   },
   "file_extension": ".py",
   "mimetype": "text/x-python",
   "name": "python",
   "nbconvert_exporter": "python",
   "pygments_lexer": "ipython3",
   "version": "3.10.12"
  }
 },
 "nbformat": 4,
 "nbformat_minor": 4
}
