{
 "cells": [
  {
   "cell_type": "code",
   "execution_count": 1,
   "id": "b0cc44c6-bb1f-40b5-b281-84b0a67fef47",
   "metadata": {},
   "outputs": [
    {
     "name": "stderr",
     "output_type": "stream",
     "text": [
      "/usr/local/lib/python3.10/dist-packages/tqdm/auto.py:21: TqdmWarning: IProgress not found. Please update jupyter and ipywidgets. See https://ipywidgets.readthedocs.io/en/stable/user_install.html\n",
      "  from .autonotebook import tqdm as notebook_tqdm\n"
     ]
    }
   ],
   "source": [
    "from model.trainer import train\n"
   ]
  },
  {
   "cell_type": "code",
   "execution_count": 2,
   "id": "4c999d1d-bd95-42ed-983c-3cb86fe5da86",
   "metadata": {},
   "outputs": [
    {
     "name": "stdout",
     "output_type": "stream",
     "text": [
      "========================================\n",
      "INIT Model\n",
      "========================================\n",
      "INIT VAE SAXS\n",
      "{'in_channels': 1, 'output_channels': 1, 'input_dim': 80, 'latent_dim': 64, 'down_channels': [32, 64, 128], 'up_channels': [128, 64, 32], 'strat': 'y'}\n",
      "VAE Architecture:\n",
      "\tInput Dimension: 80\n",
      "\tLatent Dimension: 64\n",
      "\tIn Channels: 1\n",
      "\tDown Channels: [32, 64, 128]\n",
      "\tUp Channels: [128, 64, 32]\n",
      "\tOutput Channels: 1\n",
      "\tFlattened Size: 10240\n",
      "\tEncoder Architecture: Sequential(\n",
      "  (0): Conv1d(1, 32, kernel_size=(3,), stride=(1,), padding=(1,))\n",
      "  (1): ReLU()\n",
      "  (2): Conv1d(32, 64, kernel_size=(3,), stride=(1,), padding=(1,))\n",
      "  (3): ReLU()\n",
      "  (4): Conv1d(64, 128, kernel_size=(3,), stride=(1,), padding=(1,))\n",
      "  (5): ReLU()\n",
      "  (6): Flatten(start_dim=1, end_dim=-1)\n",
      ")\n",
      "\tDecoder Architecture: Sequential(\n",
      "  (0): Linear(in_features=64, out_features=10240, bias=True)\n",
      "  (1): Unflatten(dim=1, unflattened_size=(128, 80))\n",
      "  (2): ConvTranspose1d(128, 64, kernel_size=(3,), stride=(1,), padding=(1,))\n",
      "  (3): ReLU()\n",
      "  (4): ConvTranspose1d(64, 32, kernel_size=(3,), stride=(1,), padding=(1,))\n",
      "  (5): ReLU()\n",
      "  (6): ConvTranspose1d(32, 1, kernel_size=(3,), stride=(1,), padding=(1,))\n",
      "  (7): Sigmoid()\n",
      ")\n",
      "========================================\n",
      "========================================\n",
      "INIT VAE LES\n",
      "{'in_channels': 1, 'output_channels': 1, 'input_dim': 80, 'latent_dim': 64, 'down_channels': [32, 64, 128], 'up_channels': [128, 64, 32], 'strat': 'y'}\n",
      "VAE Architecture:\n",
      "\tInput Dimension: 80\n",
      "\tLatent Dimension: 64\n",
      "\tIn Channels: 1\n",
      "\tDown Channels: [32, 64, 128]\n",
      "\tUp Channels: [128, 64, 32]\n",
      "\tOutput Channels: 1\n",
      "\tFlattened Size: 10240\n",
      "\tEncoder Architecture: Sequential(\n",
      "  (0): Conv1d(1, 32, kernel_size=(3,), stride=(1,), padding=(1,))\n",
      "  (1): ReLU()\n",
      "  (2): Conv1d(32, 64, kernel_size=(3,), stride=(1,), padding=(1,))\n",
      "  (3): ReLU()\n",
      "  (4): Conv1d(64, 128, kernel_size=(3,), stride=(1,), padding=(1,))\n",
      "  (5): ReLU()\n",
      "  (6): Flatten(start_dim=1, end_dim=-1)\n",
      ")\n",
      "\tDecoder Architecture: Sequential(\n",
      "  (0): Linear(in_features=64, out_features=10240, bias=True)\n",
      "  (1): Unflatten(dim=1, unflattened_size=(128, 80))\n",
      "  (2): ConvTranspose1d(128, 64, kernel_size=(3,), stride=(1,), padding=(1,))\n",
      "  (3): ReLU()\n",
      "  (4): ConvTranspose1d(64, 32, kernel_size=(3,), stride=(1,), padding=(1,))\n",
      "  (5): ReLU()\n",
      "  (6): ConvTranspose1d(32, 1, kernel_size=(3,), stride=(1,), padding=(1,))\n",
      "  (7): Sigmoid()\n",
      ")\n",
      "========================================\n",
      "========================================\n",
      "========================================\n",
      "INIT Dataset\n"
     ]
    },
    {
     "name": "stderr",
     "output_type": "stream",
     "text": [
      "Applying filters: 100%|██████████| 1/1 [00:00<00:00,  1.86it/s]\n"
     ]
    },
    {
     "name": "stdout",
     "output_type": "stream",
     "text": [
      "\n",
      "╒══════════════════════════════════════════════╕\n",
      "│ Dataset Initialization Info                 │\n",
      "╞══════════════════════════════════════════════╡\n",
      "│ File: pair_saxs_les_closest_of_concentration.h5 │\n",
      "│ Total samples: 97841                      │\n",
      "│ Samples filtered: 48907                   │\n",
      "│ Requested fraction: 1.0                    │\n",
      "│ Fractioned samples: 48907                  │\n",
      "│ Pad size: 80                             │\n",
      "│ To normalization: ['data_y_saxs', 'data_y_les'] │\n",
      "│ Norme L1 de data_y_saxs: 567877799122.7988        │\n",
      "│ Norme L2 de data_y_saxs: 3412882141.7007          │\n",
      "│ Norme max de data_y_saxs: 133480000.0000         │\n",
      "╘══════════════════════════════════════════════╛\n",
      "\n"
     ]
    },
    {
     "name": "stderr",
     "output_type": "stream",
     "text": [
      "GPU available: False, used: False\n"
     ]
    },
    {
     "name": "stdout",
     "output_type": "stream",
     "text": [
      "│ Norme L1 de data_y_les: 2184202.0956             │\n",
      "│ Norme L2 de data_y_les: 1296.3635                │\n",
      "│ Norme max de data_y_les: 1.0000                 │\n",
      "╘══════════════════════════════════════════════╛\n",
      "\n",
      "========================================\n",
      "Indices sauvegardés !\n"
     ]
    },
    {
     "name": "stderr",
     "output_type": "stream",
     "text": [
      "TPU available: False, using: 0 TPU cores\n",
      "IPU available: False, using: 0 IPUs\n",
      "HPU available: False, using: 0 HPUs\n",
      "/home/cdepourt/.local/lib/python3.10/site-packages/lightning/pytorch/callbacks/model_checkpoint.py:653: Checkpoint directory /home/cdepourt/PRIVE/AUTOFILL/lightning_logs/version_71916/checkpoints exists and is not empty.\n",
      "\n",
      "  | Name              | Type            | Params\n",
      "------------------------------------------------------\n",
      "0 | model             | PairVAE         | 5.4 M \n",
      "1 | barlow_twins_loss | BarlowTwinsLoss | 0     \n",
      "------------------------------------------------------\n",
      "5.4 M     Trainable params\n",
      "0         Non-trainable params\n",
      "5.4 M     Total params\n",
      "21.632    Total estimated model params size (MB)\n",
      "SLURM auto-requeueing enabled. Setting signal handlers.\n"
     ]
    },
    {
     "name": "stdout",
     "output_type": "stream",
     "text": [
      "Epoch 0:  33%|███▎      | 398/1223 [00:23<00:49, 16.76it/s, v_num=71916, train_loss_step=0.159]"
     ]
    },
    {
     "name": "stderr",
     "output_type": "stream",
     "text": [
      "/home/cdepourt/.local/lib/python3.10/site-packages/lightning/pytorch/trainer/call.py:54: Detected KeyboardInterrupt, attempting graceful shutdown...\n"
     ]
    }
   ],
   "source": [
    "train(\"model/pair_vae2.yaml\")"
   ]
  },
  {
   "cell_type": "code",
   "execution_count": null,
   "id": "d6f3e3fa-68c0-48aa-8626-2c157b6d6f32",
   "metadata": {},
   "outputs": [],
   "source": []
  }
 ],
 "metadata": {
  "kernelspec": {
   "display_name": "Python 3 (ipykernel)",
   "language": "python",
   "name": "python3"
  },
  "language_info": {
   "codemirror_mode": {
    "name": "ipython",
    "version": 3
   },
   "file_extension": ".py",
   "mimetype": "text/x-python",
   "name": "python",
   "nbconvert_exporter": "python",
   "pygments_lexer": "ipython3",
   "version": "3.10.12"
  }
 },
 "nbformat": 4,
 "nbformat_minor": 5
}
